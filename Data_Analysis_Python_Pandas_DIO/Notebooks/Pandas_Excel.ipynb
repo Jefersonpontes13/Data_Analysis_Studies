{
 "nbformat": 4,
 "nbformat_minor": 0,
 "metadata": {
  "colab": {
   "name": "Pandas_Aula5.ipynb",
   "provenance": []
  },
  "kernelspec": {
   "name": "python3",
   "language": "python",
   "display_name": "Python 3 (ipykernel)"
  }
 },
 "cells": [
  {
   "cell_type": "markdown",
   "metadata": {
    "id": "ZeNH2z6OzfND",
    "colab_type": "text"
   },
   "source": [
    "#**Planilhas do Excel**"
   ]
  },
  {
   "cell_type": "code",
   "metadata": {
    "id": "Jwz3_uGfzmYp",
    "colab_type": "code",
    "colab": {}
   },
   "source": [
    "import pandas as pd"
   ],
   "execution_count": 51,
   "outputs": []
  },
  {
   "cell_type": "code",
   "metadata": {
    "id": "pCTDd0YKzqkc",
    "colab_type": "code",
    "colab": {}
   },
   "source": [
    "df1 = pd.read_excel(r\"C:\\Users\\jeffe\\PycharmProjects\\Data_Analysis_Studies\\Data_Analysis_Python_Pandas_DIO\\datasets\\Aracaju.xlsx\")\n",
    "df2 = pd.read_excel(r\"C:\\Users\\jeffe\\PycharmProjects\\Data_Analysis_Studies\\Data_Analysis_Python_Pandas_DIO\\datasets\\Fortaleza.xlsx\")\n",
    "df3 = pd.read_excel(r\"C:\\Users\\jeffe\\PycharmProjects\\Data_Analysis_Studies\\Data_Analysis_Python_Pandas_DIO\\datasets\\Natal.xlsx\")\n",
    "df4 = pd.read_excel(r\"C:\\Users\\jeffe\\PycharmProjects\\Data_Analysis_Studies\\Data_Analysis_Python_Pandas_DIO\\datasets\\Recife.xlsx\")\n",
    "df5 = pd.read_excel(r\"C:\\Users\\jeffe\\PycharmProjects\\Data_Analysis_Studies\\Data_Analysis_Python_Pandas_DIO\\datasets\\Salvador.xlsx\")"
   ],
   "execution_count": 52,
   "outputs": []
  },
  {
   "cell_type": "code",
   "metadata": {
    "id": "bt3rZ7tWBPj7",
    "colab_type": "code",
    "colab": {
     "base_uri": "https://localhost:8080/",
     "height": 204
    },
    "outputId": "ffe2a67a-51ad-4749-d941-81cdd22dd29b"
   },
   "source": [
    "df5.head()"
   ],
   "execution_count": 53,
   "outputs": [
    {
     "data": {
      "text/plain": "     Cidade       Data  Vendas  LojaID  Qtde\n0  Salvador 2018-01-01   31.06    1037     3\n1  Salvador 2018-01-01   19.02    1034     3\n2  Salvador 2019-02-10  173.59    1035     3\n3  Salvador 2019-02-10  176.34    1037     3\n4  Salvador 2019-02-14   19.47    1037     3",
      "text/html": "<div>\n<style scoped>\n    .dataframe tbody tr th:only-of-type {\n        vertical-align: middle;\n    }\n\n    .dataframe tbody tr th {\n        vertical-align: top;\n    }\n\n    .dataframe thead th {\n        text-align: right;\n    }\n</style>\n<table border=\"1\" class=\"dataframe\">\n  <thead>\n    <tr style=\"text-align: right;\">\n      <th></th>\n      <th>Cidade</th>\n      <th>Data</th>\n      <th>Vendas</th>\n      <th>LojaID</th>\n      <th>Qtde</th>\n    </tr>\n  </thead>\n  <tbody>\n    <tr>\n      <th>0</th>\n      <td>Salvador</td>\n      <td>2018-01-01</td>\n      <td>31.06</td>\n      <td>1037</td>\n      <td>3</td>\n    </tr>\n    <tr>\n      <th>1</th>\n      <td>Salvador</td>\n      <td>2018-01-01</td>\n      <td>19.02</td>\n      <td>1034</td>\n      <td>3</td>\n    </tr>\n    <tr>\n      <th>2</th>\n      <td>Salvador</td>\n      <td>2019-02-10</td>\n      <td>173.59</td>\n      <td>1035</td>\n      <td>3</td>\n    </tr>\n    <tr>\n      <th>3</th>\n      <td>Salvador</td>\n      <td>2019-02-10</td>\n      <td>176.34</td>\n      <td>1037</td>\n      <td>3</td>\n    </tr>\n    <tr>\n      <th>4</th>\n      <td>Salvador</td>\n      <td>2019-02-14</td>\n      <td>19.47</td>\n      <td>1037</td>\n      <td>3</td>\n    </tr>\n  </tbody>\n</table>\n</div>"
     },
     "execution_count": 53,
     "metadata": {},
     "output_type": "execute_result"
    }
   ]
  },
  {
   "cell_type": "code",
   "metadata": {
    "id": "7CUnX6220WVx",
    "colab_type": "code",
    "colab": {}
   },
   "source": [
    "#juntando todos os arquivos\n",
    "df = pd.concat([df1,df2,df3,df4,df5])"
   ],
   "execution_count": 54,
   "outputs": []
  },
  {
   "cell_type": "code",
   "metadata": {
    "id": "3ZFau-ii08Lr",
    "colab_type": "code",
    "colab": {
     "base_uri": "https://localhost:8080/",
     "height": 204
    },
    "outputId": "f1ed7fc3-ac01-4af0-cfae-392c343ffb03"
   },
   "source": [
    "#Exibindo as 5 primeiras linhas\n",
    "df.head()"
   ],
   "execution_count": 55,
   "outputs": [
    {
     "data": {
      "text/plain": "    Cidade       Data  Vendas  LojaID  Qtde\n0  Aracaju 2018-01-01  142.00    1520     1\n1  Aracaju 2018-01-01   14.21    1522     6\n2  Aracaju 2018-01-01   71.55    1520     1\n3  Aracaju 2018-01-01    3.01    1521     7\n4  Aracaju 2018-01-01   24.51    1522     8",
      "text/html": "<div>\n<style scoped>\n    .dataframe tbody tr th:only-of-type {\n        vertical-align: middle;\n    }\n\n    .dataframe tbody tr th {\n        vertical-align: top;\n    }\n\n    .dataframe thead th {\n        text-align: right;\n    }\n</style>\n<table border=\"1\" class=\"dataframe\">\n  <thead>\n    <tr style=\"text-align: right;\">\n      <th></th>\n      <th>Cidade</th>\n      <th>Data</th>\n      <th>Vendas</th>\n      <th>LojaID</th>\n      <th>Qtde</th>\n    </tr>\n  </thead>\n  <tbody>\n    <tr>\n      <th>0</th>\n      <td>Aracaju</td>\n      <td>2018-01-01</td>\n      <td>142.00</td>\n      <td>1520</td>\n      <td>1</td>\n    </tr>\n    <tr>\n      <th>1</th>\n      <td>Aracaju</td>\n      <td>2018-01-01</td>\n      <td>14.21</td>\n      <td>1522</td>\n      <td>6</td>\n    </tr>\n    <tr>\n      <th>2</th>\n      <td>Aracaju</td>\n      <td>2018-01-01</td>\n      <td>71.55</td>\n      <td>1520</td>\n      <td>1</td>\n    </tr>\n    <tr>\n      <th>3</th>\n      <td>Aracaju</td>\n      <td>2018-01-01</td>\n      <td>3.01</td>\n      <td>1521</td>\n      <td>7</td>\n    </tr>\n    <tr>\n      <th>4</th>\n      <td>Aracaju</td>\n      <td>2018-01-01</td>\n      <td>24.51</td>\n      <td>1522</td>\n      <td>8</td>\n    </tr>\n  </tbody>\n</table>\n</div>"
     },
     "execution_count": 55,
     "metadata": {},
     "output_type": "execute_result"
    }
   ]
  },
  {
   "cell_type": "code",
   "metadata": {
    "id": "oURFLxhL09Uq",
    "colab_type": "code",
    "colab": {
     "base_uri": "https://localhost:8080/",
     "height": 204
    },
    "outputId": "15c819f5-a1c0-42ac-a1be-4727c424340a"
   },
   "source": [
    "#Exibindo as 5 últimas linhas\n",
    "df.tail()"
   ],
   "execution_count": 56,
   "outputs": [
    {
     "data": {
      "text/plain": "       Cidade       Data  Vendas  LojaID  Qtde\n235  Salvador 2019-01-03   41.84    1034     1\n236  Salvador 2019-01-03  126.29    1035     3\n237  Salvador 2019-01-03   38.06    1036     3\n238  Salvador 2019-01-03  139.64    1035     1\n239  Salvador 2019-01-03  161.41    1037     3",
      "text/html": "<div>\n<style scoped>\n    .dataframe tbody tr th:only-of-type {\n        vertical-align: middle;\n    }\n\n    .dataframe tbody tr th {\n        vertical-align: top;\n    }\n\n    .dataframe thead th {\n        text-align: right;\n    }\n</style>\n<table border=\"1\" class=\"dataframe\">\n  <thead>\n    <tr style=\"text-align: right;\">\n      <th></th>\n      <th>Cidade</th>\n      <th>Data</th>\n      <th>Vendas</th>\n      <th>LojaID</th>\n      <th>Qtde</th>\n    </tr>\n  </thead>\n  <tbody>\n    <tr>\n      <th>235</th>\n      <td>Salvador</td>\n      <td>2019-01-03</td>\n      <td>41.84</td>\n      <td>1034</td>\n      <td>1</td>\n    </tr>\n    <tr>\n      <th>236</th>\n      <td>Salvador</td>\n      <td>2019-01-03</td>\n      <td>126.29</td>\n      <td>1035</td>\n      <td>3</td>\n    </tr>\n    <tr>\n      <th>237</th>\n      <td>Salvador</td>\n      <td>2019-01-03</td>\n      <td>38.06</td>\n      <td>1036</td>\n      <td>3</td>\n    </tr>\n    <tr>\n      <th>238</th>\n      <td>Salvador</td>\n      <td>2019-01-03</td>\n      <td>139.64</td>\n      <td>1035</td>\n      <td>1</td>\n    </tr>\n    <tr>\n      <th>239</th>\n      <td>Salvador</td>\n      <td>2019-01-03</td>\n      <td>161.41</td>\n      <td>1037</td>\n      <td>3</td>\n    </tr>\n  </tbody>\n</table>\n</div>"
     },
     "execution_count": 56,
     "metadata": {},
     "output_type": "execute_result"
    }
   ]
  },
  {
   "cell_type": "code",
   "metadata": {
    "id": "j8eDDblOBsRG",
    "colab_type": "code",
    "colab": {
     "base_uri": "https://localhost:8080/",
     "height": 204
    },
    "outputId": "efe39301-6ece-4446-a3b9-60cb39095e69"
   },
   "source": [
    "df.sample(5)"
   ],
   "execution_count": 57,
   "outputs": [
    {
     "data": {
      "text/plain": "        Cidade       Data  Vendas  LojaID  Qtde\n121  Fortaleza 2019-03-02   41.55     981     3\n31      Recife 2019-01-01  176.23     981     7\n204   Salvador 2019-01-02  151.41    1037     2\n199   Salvador 2019-01-02  153.87    1036     3\n51    Salvador 2019-01-01   13.37    1037     2",
      "text/html": "<div>\n<style scoped>\n    .dataframe tbody tr th:only-of-type {\n        vertical-align: middle;\n    }\n\n    .dataframe tbody tr th {\n        vertical-align: top;\n    }\n\n    .dataframe thead th {\n        text-align: right;\n    }\n</style>\n<table border=\"1\" class=\"dataframe\">\n  <thead>\n    <tr style=\"text-align: right;\">\n      <th></th>\n      <th>Cidade</th>\n      <th>Data</th>\n      <th>Vendas</th>\n      <th>LojaID</th>\n      <th>Qtde</th>\n    </tr>\n  </thead>\n  <tbody>\n    <tr>\n      <th>121</th>\n      <td>Fortaleza</td>\n      <td>2019-03-02</td>\n      <td>41.55</td>\n      <td>981</td>\n      <td>3</td>\n    </tr>\n    <tr>\n      <th>31</th>\n      <td>Recife</td>\n      <td>2019-01-01</td>\n      <td>176.23</td>\n      <td>981</td>\n      <td>7</td>\n    </tr>\n    <tr>\n      <th>204</th>\n      <td>Salvador</td>\n      <td>2019-01-02</td>\n      <td>151.41</td>\n      <td>1037</td>\n      <td>2</td>\n    </tr>\n    <tr>\n      <th>199</th>\n      <td>Salvador</td>\n      <td>2019-01-02</td>\n      <td>153.87</td>\n      <td>1036</td>\n      <td>3</td>\n    </tr>\n    <tr>\n      <th>51</th>\n      <td>Salvador</td>\n      <td>2019-01-01</td>\n      <td>13.37</td>\n      <td>1037</td>\n      <td>2</td>\n    </tr>\n  </tbody>\n</table>\n</div>"
     },
     "execution_count": 57,
     "metadata": {},
     "output_type": "execute_result"
    }
   ]
  },
  {
   "cell_type": "code",
   "metadata": {
    "id": "kw0zQfVL0_-L",
    "colab_type": "code",
    "colab": {
     "base_uri": "https://localhost:8080/",
     "height": 119
    },
    "outputId": "3617ad27-63b0-483f-ea6e-1a8413272afc"
   },
   "source": [
    "df.dtypes"
   ],
   "execution_count": 58,
   "outputs": [
    {
     "data": {
      "text/plain": "Cidade            object\nData      datetime64[ns]\nVendas           float64\nLojaID             int64\nQtde               int64\ndtype: object"
     },
     "execution_count": 58,
     "metadata": {},
     "output_type": "execute_result"
    }
   ]
  },
  {
   "cell_type": "code",
   "metadata": {
    "id": "JB2rkM0b1kKF",
    "colab_type": "code",
    "colab": {}
   },
   "source": [
    "df[\"LojaID\"] = df[\"LojaID\"].astype(\"object\")"
   ],
   "execution_count": 59,
   "outputs": []
  },
  {
   "cell_type": "code",
   "metadata": {
    "id": "3t1uir2H1w3x",
    "colab_type": "code",
    "colab": {
     "base_uri": "https://localhost:8080/",
     "height": 119
    },
    "outputId": "a8d766f2-504e-4fcb-dc09-842b4c5218b6"
   },
   "source": [
    "df.dtypes"
   ],
   "execution_count": 60,
   "outputs": [
    {
     "data": {
      "text/plain": "Cidade            object\nData      datetime64[ns]\nVendas           float64\nLojaID            object\nQtde               int64\ndtype: object"
     },
     "execution_count": 60,
     "metadata": {},
     "output_type": "execute_result"
    }
   ]
  },
  {
   "cell_type": "code",
   "metadata": {
    "id": "B0Z8PPuJ19dc",
    "colab_type": "code",
    "colab": {
     "base_uri": "https://localhost:8080/",
     "height": 204
    },
    "outputId": "10d2f11c-d421-4434-fe61-dfa537b7d6bf"
   },
   "source": [
    "df.head()"
   ],
   "execution_count": 61,
   "outputs": [
    {
     "data": {
      "text/plain": "    Cidade       Data  Vendas LojaID  Qtde\n0  Aracaju 2018-01-01  142.00   1520     1\n1  Aracaju 2018-01-01   14.21   1522     6\n2  Aracaju 2018-01-01   71.55   1520     1\n3  Aracaju 2018-01-01    3.01   1521     7\n4  Aracaju 2018-01-01   24.51   1522     8",
      "text/html": "<div>\n<style scoped>\n    .dataframe tbody tr th:only-of-type {\n        vertical-align: middle;\n    }\n\n    .dataframe tbody tr th {\n        vertical-align: top;\n    }\n\n    .dataframe thead th {\n        text-align: right;\n    }\n</style>\n<table border=\"1\" class=\"dataframe\">\n  <thead>\n    <tr style=\"text-align: right;\">\n      <th></th>\n      <th>Cidade</th>\n      <th>Data</th>\n      <th>Vendas</th>\n      <th>LojaID</th>\n      <th>Qtde</th>\n    </tr>\n  </thead>\n  <tbody>\n    <tr>\n      <th>0</th>\n      <td>Aracaju</td>\n      <td>2018-01-01</td>\n      <td>142.00</td>\n      <td>1520</td>\n      <td>1</td>\n    </tr>\n    <tr>\n      <th>1</th>\n      <td>Aracaju</td>\n      <td>2018-01-01</td>\n      <td>14.21</td>\n      <td>1522</td>\n      <td>6</td>\n    </tr>\n    <tr>\n      <th>2</th>\n      <td>Aracaju</td>\n      <td>2018-01-01</td>\n      <td>71.55</td>\n      <td>1520</td>\n      <td>1</td>\n    </tr>\n    <tr>\n      <th>3</th>\n      <td>Aracaju</td>\n      <td>2018-01-01</td>\n      <td>3.01</td>\n      <td>1521</td>\n      <td>7</td>\n    </tr>\n    <tr>\n      <th>4</th>\n      <td>Aracaju</td>\n      <td>2018-01-01</td>\n      <td>24.51</td>\n      <td>1522</td>\n      <td>8</td>\n    </tr>\n  </tbody>\n</table>\n</div>"
     },
     "execution_count": 61,
     "metadata": {},
     "output_type": "execute_result"
    }
   ]
  },
  {
   "cell_type": "markdown",
   "metadata": {
    "id": "br1B_k4v2HVF",
    "colab_type": "text"
   },
   "source": [
    "**Tratando valores faltantes**"
   ]
  },
  {
   "cell_type": "code",
   "metadata": {
    "id": "J5L9EehP2MQ_",
    "colab_type": "code",
    "colab": {
     "base_uri": "https://localhost:8080/",
     "height": 119
    },
    "outputId": "91e21217-879a-426d-8b2b-fb15e77b2f87"
   },
   "source": [
    "df.isnull().sum()"
   ],
   "execution_count": 62,
   "outputs": [
    {
     "data": {
      "text/plain": "Cidade    0\nData      0\nVendas    0\nLojaID    0\nQtde      0\ndtype: int64"
     },
     "execution_count": 62,
     "metadata": {},
     "output_type": "execute_result"
    }
   ]
  },
  {
   "cell_type": "code",
   "metadata": {
    "id": "Pbq2ztpN3Qn8",
    "colab_type": "code",
    "colab": {}
   },
   "source": [
    "#Substituindo os valores nulos pela média\n",
    "df[\"Vendas\"].fillna(df[\"Vendas\"].mean(), inplace=True)"
   ],
   "execution_count": 63,
   "outputs": []
  },
  {
   "cell_type": "code",
   "metadata": {
    "id": "mD0kfsgSC4Qm",
    "colab_type": "code",
    "colab": {
     "base_uri": "https://localhost:8080/",
     "height": 34
    },
    "outputId": "ed9d1efa-e3b7-479e-9119-bab340148876"
   },
   "source": [
    "df[\"Vendas\"].mean()"
   ],
   "execution_count": 64,
   "outputs": [
    {
     "data": {
      "text/plain": "122.61180089485458"
     },
     "execution_count": 64,
     "metadata": {},
     "output_type": "execute_result"
    }
   ]
  },
  {
   "cell_type": "code",
   "metadata": {
    "id": "lA5QVn5N4C-A",
    "colab_type": "code",
    "colab": {
     "base_uri": "https://localhost:8080/",
     "height": 119
    },
    "outputId": "84874d37-3368-452f-bed6-43782dea6cf6"
   },
   "source": [
    "df.isnull().sum()"
   ],
   "execution_count": 65,
   "outputs": [
    {
     "data": {
      "text/plain": "Cidade    0\nData      0\nVendas    0\nLojaID    0\nQtde      0\ndtype: int64"
     },
     "execution_count": 65,
     "metadata": {},
     "output_type": "execute_result"
    }
   ]
  },
  {
   "cell_type": "code",
   "metadata": {
    "id": "ds7pcl-ZCzb_",
    "colab_type": "code",
    "colab": {
     "base_uri": "https://localhost:8080/",
     "height": 514
    },
    "outputId": "e37c7b13-8bd1-46e2-e3f3-104e7fce8f8a"
   },
   "source": [
    "df.sample(15)"
   ],
   "execution_count": 66,
   "outputs": [
    {
     "data": {
      "text/plain": "        Cidade       Data  Vendas LojaID  Qtde\n105      Natal 2019-01-02   32.83   1037     1\n79    Salvador 2019-01-01   19.02   1034     2\n84   Fortaleza 2019-01-01  147.46   1003     6\n178   Salvador 2019-01-02   39.28   1037     3\n212      Natal 2019-01-02   50.73   1037     3\n216      Natal 2019-01-02    5.82   1035     1\n93       Natal 2019-01-02   15.58   1037     1\n32      Recife 2019-01-01   15.93    982     7\n7      Aracaju 2019-01-01  172.22   1522     6\n78   Fortaleza 2019-01-01   37.66   1005     2\n164      Natal 2019-01-02    6.59   1035     1\n19   Fortaleza 2019-01-01   18.86   1002     3\n128      Natal 2019-01-02   36.84   1034     1\n41      Recife 2019-02-13  157.78    981     4\n214      Natal 2019-01-02   54.94   1036     2",
      "text/html": "<div>\n<style scoped>\n    .dataframe tbody tr th:only-of-type {\n        vertical-align: middle;\n    }\n\n    .dataframe tbody tr th {\n        vertical-align: top;\n    }\n\n    .dataframe thead th {\n        text-align: right;\n    }\n</style>\n<table border=\"1\" class=\"dataframe\">\n  <thead>\n    <tr style=\"text-align: right;\">\n      <th></th>\n      <th>Cidade</th>\n      <th>Data</th>\n      <th>Vendas</th>\n      <th>LojaID</th>\n      <th>Qtde</th>\n    </tr>\n  </thead>\n  <tbody>\n    <tr>\n      <th>105</th>\n      <td>Natal</td>\n      <td>2019-01-02</td>\n      <td>32.83</td>\n      <td>1037</td>\n      <td>1</td>\n    </tr>\n    <tr>\n      <th>79</th>\n      <td>Salvador</td>\n      <td>2019-01-01</td>\n      <td>19.02</td>\n      <td>1034</td>\n      <td>2</td>\n    </tr>\n    <tr>\n      <th>84</th>\n      <td>Fortaleza</td>\n      <td>2019-01-01</td>\n      <td>147.46</td>\n      <td>1003</td>\n      <td>6</td>\n    </tr>\n    <tr>\n      <th>178</th>\n      <td>Salvador</td>\n      <td>2019-01-02</td>\n      <td>39.28</td>\n      <td>1037</td>\n      <td>3</td>\n    </tr>\n    <tr>\n      <th>212</th>\n      <td>Natal</td>\n      <td>2019-01-02</td>\n      <td>50.73</td>\n      <td>1037</td>\n      <td>3</td>\n    </tr>\n    <tr>\n      <th>216</th>\n      <td>Natal</td>\n      <td>2019-01-02</td>\n      <td>5.82</td>\n      <td>1035</td>\n      <td>1</td>\n    </tr>\n    <tr>\n      <th>93</th>\n      <td>Natal</td>\n      <td>2019-01-02</td>\n      <td>15.58</td>\n      <td>1037</td>\n      <td>1</td>\n    </tr>\n    <tr>\n      <th>32</th>\n      <td>Recife</td>\n      <td>2019-01-01</td>\n      <td>15.93</td>\n      <td>982</td>\n      <td>7</td>\n    </tr>\n    <tr>\n      <th>7</th>\n      <td>Aracaju</td>\n      <td>2019-01-01</td>\n      <td>172.22</td>\n      <td>1522</td>\n      <td>6</td>\n    </tr>\n    <tr>\n      <th>78</th>\n      <td>Fortaleza</td>\n      <td>2019-01-01</td>\n      <td>37.66</td>\n      <td>1005</td>\n      <td>2</td>\n    </tr>\n    <tr>\n      <th>164</th>\n      <td>Natal</td>\n      <td>2019-01-02</td>\n      <td>6.59</td>\n      <td>1035</td>\n      <td>1</td>\n    </tr>\n    <tr>\n      <th>19</th>\n      <td>Fortaleza</td>\n      <td>2019-01-01</td>\n      <td>18.86</td>\n      <td>1002</td>\n      <td>3</td>\n    </tr>\n    <tr>\n      <th>128</th>\n      <td>Natal</td>\n      <td>2019-01-02</td>\n      <td>36.84</td>\n      <td>1034</td>\n      <td>1</td>\n    </tr>\n    <tr>\n      <th>41</th>\n      <td>Recife</td>\n      <td>2019-02-13</td>\n      <td>157.78</td>\n      <td>981</td>\n      <td>4</td>\n    </tr>\n    <tr>\n      <th>214</th>\n      <td>Natal</td>\n      <td>2019-01-02</td>\n      <td>54.94</td>\n      <td>1036</td>\n      <td>2</td>\n    </tr>\n  </tbody>\n</table>\n</div>"
     },
     "execution_count": 66,
     "metadata": {},
     "output_type": "execute_result"
    }
   ]
  },
  {
   "cell_type": "code",
   "metadata": {
    "id": "mMzEuPzg4N7U",
    "colab_type": "code",
    "colab": {}
   },
   "source": [
    "#Substituindo os valores nulos por zero\n",
    "df[\"Vendas\"].fillna(0, inplace=True)"
   ],
   "execution_count": 67,
   "outputs": []
  },
  {
   "cell_type": "code",
   "metadata": {
    "id": "pS7Hw6Df4Z7x",
    "colab_type": "code",
    "colab": {}
   },
   "source": [
    "#Apagando as linhas com valores nulos\n",
    "df.dropna(inplace=True)"
   ],
   "execution_count": 68,
   "outputs": []
  },
  {
   "cell_type": "code",
   "metadata": {
    "id": "iCpMj9MD4mW4",
    "colab_type": "code",
    "colab": {}
   },
   "source": [
    "#Apagando as linhas com valores nulos com base apenas em 1 coluna\n",
    "df.dropna(subset=[\"Vendas\"], inplace=True)"
   ],
   "execution_count": 69,
   "outputs": []
  },
  {
   "cell_type": "code",
   "metadata": {
    "id": "LYGy2VqH8uaM",
    "colab_type": "code",
    "colab": {}
   },
   "source": [
    "#Removendo linhas que estejam com valores faltantes em todas as colunas\n",
    "df.dropna(how=\"all\", inplace=True)"
   ],
   "execution_count": 70,
   "outputs": []
  },
  {
   "cell_type": "markdown",
   "metadata": {
    "id": "6qEyt17h9IwX",
    "colab_type": "text"
   },
   "source": [
    "**Criando colunas novas**"
   ]
  },
  {
   "cell_type": "code",
   "metadata": {
    "id": "1HAAiPkh1yIN",
    "colab_type": "code",
    "colab": {}
   },
   "source": [
    "df[\"Receita\"] = df[\"Vendas\"].mul(df[\"Qtde\"])"
   ],
   "execution_count": 71,
   "outputs": []
  },
  {
   "cell_type": "code",
   "metadata": {
    "id": "_gMBlvMq5fPj",
    "colab_type": "code",
    "colab": {
     "base_uri": "https://localhost:8080/",
     "height": 204
    },
    "outputId": "a971500e-05cb-417a-f782-9a7737c2728f"
   },
   "source": [
    "df.head()"
   ],
   "execution_count": 72,
   "outputs": [
    {
     "data": {
      "text/plain": "    Cidade       Data  Vendas LojaID  Qtde  Receita\n0  Aracaju 2018-01-01  142.00   1520     1   142.00\n1  Aracaju 2018-01-01   14.21   1522     6    85.26\n2  Aracaju 2018-01-01   71.55   1520     1    71.55\n3  Aracaju 2018-01-01    3.01   1521     7    21.07\n4  Aracaju 2018-01-01   24.51   1522     8   196.08",
      "text/html": "<div>\n<style scoped>\n    .dataframe tbody tr th:only-of-type {\n        vertical-align: middle;\n    }\n\n    .dataframe tbody tr th {\n        vertical-align: top;\n    }\n\n    .dataframe thead th {\n        text-align: right;\n    }\n</style>\n<table border=\"1\" class=\"dataframe\">\n  <thead>\n    <tr style=\"text-align: right;\">\n      <th></th>\n      <th>Cidade</th>\n      <th>Data</th>\n      <th>Vendas</th>\n      <th>LojaID</th>\n      <th>Qtde</th>\n      <th>Receita</th>\n    </tr>\n  </thead>\n  <tbody>\n    <tr>\n      <th>0</th>\n      <td>Aracaju</td>\n      <td>2018-01-01</td>\n      <td>142.00</td>\n      <td>1520</td>\n      <td>1</td>\n      <td>142.00</td>\n    </tr>\n    <tr>\n      <th>1</th>\n      <td>Aracaju</td>\n      <td>2018-01-01</td>\n      <td>14.21</td>\n      <td>1522</td>\n      <td>6</td>\n      <td>85.26</td>\n    </tr>\n    <tr>\n      <th>2</th>\n      <td>Aracaju</td>\n      <td>2018-01-01</td>\n      <td>71.55</td>\n      <td>1520</td>\n      <td>1</td>\n      <td>71.55</td>\n    </tr>\n    <tr>\n      <th>3</th>\n      <td>Aracaju</td>\n      <td>2018-01-01</td>\n      <td>3.01</td>\n      <td>1521</td>\n      <td>7</td>\n      <td>21.07</td>\n    </tr>\n    <tr>\n      <th>4</th>\n      <td>Aracaju</td>\n      <td>2018-01-01</td>\n      <td>24.51</td>\n      <td>1522</td>\n      <td>8</td>\n      <td>196.08</td>\n    </tr>\n  </tbody>\n</table>\n</div>"
     },
     "execution_count": 72,
     "metadata": {},
     "output_type": "execute_result"
    }
   ]
  },
  {
   "cell_type": "code",
   "metadata": {
    "id": "DyU5SIhB9Q8w",
    "colab_type": "code",
    "colab": {}
   },
   "source": [
    "df[\"Receita/Vendas\"] = df[\"Receita\"] / df[\"Vendas\"] "
   ],
   "execution_count": 73,
   "outputs": []
  },
  {
   "cell_type": "code",
   "metadata": {
    "id": "YfMgO16q9m8F",
    "colab_type": "code",
    "colab": {
     "base_uri": "https://localhost:8080/",
     "height": 204
    },
    "outputId": "6b323566-e8aa-4a51-8623-cd0c7ec0cd69"
   },
   "source": [
    "df.head()"
   ],
   "execution_count": 74,
   "outputs": [
    {
     "data": {
      "text/plain": "    Cidade       Data  Vendas LojaID  Qtde  Receita  Receita/Vendas\n0  Aracaju 2018-01-01  142.00   1520     1   142.00             1.0\n1  Aracaju 2018-01-01   14.21   1522     6    85.26             6.0\n2  Aracaju 2018-01-01   71.55   1520     1    71.55             1.0\n3  Aracaju 2018-01-01    3.01   1521     7    21.07             7.0\n4  Aracaju 2018-01-01   24.51   1522     8   196.08             8.0",
      "text/html": "<div>\n<style scoped>\n    .dataframe tbody tr th:only-of-type {\n        vertical-align: middle;\n    }\n\n    .dataframe tbody tr th {\n        vertical-align: top;\n    }\n\n    .dataframe thead th {\n        text-align: right;\n    }\n</style>\n<table border=\"1\" class=\"dataframe\">\n  <thead>\n    <tr style=\"text-align: right;\">\n      <th></th>\n      <th>Cidade</th>\n      <th>Data</th>\n      <th>Vendas</th>\n      <th>LojaID</th>\n      <th>Qtde</th>\n      <th>Receita</th>\n      <th>Receita/Vendas</th>\n    </tr>\n  </thead>\n  <tbody>\n    <tr>\n      <th>0</th>\n      <td>Aracaju</td>\n      <td>2018-01-01</td>\n      <td>142.00</td>\n      <td>1520</td>\n      <td>1</td>\n      <td>142.00</td>\n      <td>1.0</td>\n    </tr>\n    <tr>\n      <th>1</th>\n      <td>Aracaju</td>\n      <td>2018-01-01</td>\n      <td>14.21</td>\n      <td>1522</td>\n      <td>6</td>\n      <td>85.26</td>\n      <td>6.0</td>\n    </tr>\n    <tr>\n      <th>2</th>\n      <td>Aracaju</td>\n      <td>2018-01-01</td>\n      <td>71.55</td>\n      <td>1520</td>\n      <td>1</td>\n      <td>71.55</td>\n      <td>1.0</td>\n    </tr>\n    <tr>\n      <th>3</th>\n      <td>Aracaju</td>\n      <td>2018-01-01</td>\n      <td>3.01</td>\n      <td>1521</td>\n      <td>7</td>\n      <td>21.07</td>\n      <td>7.0</td>\n    </tr>\n    <tr>\n      <th>4</th>\n      <td>Aracaju</td>\n      <td>2018-01-01</td>\n      <td>24.51</td>\n      <td>1522</td>\n      <td>8</td>\n      <td>196.08</td>\n      <td>8.0</td>\n    </tr>\n  </tbody>\n</table>\n</div>"
     },
     "execution_count": 74,
     "metadata": {},
     "output_type": "execute_result"
    }
   ]
  },
  {
   "cell_type": "code",
   "metadata": {
    "id": "8uy9S6JZ3DB4",
    "colab_type": "code",
    "colab": {
     "base_uri": "https://localhost:8080/",
     "height": 34
    },
    "outputId": "1e059579-152c-4151-8aaf-2f61e689644b"
   },
   "source": [
    "#Retornando a maior receita\n",
    "df[\"Receita\"].max()"
   ],
   "execution_count": 75,
   "outputs": [
    {
     "data": {
      "text/plain": "3544.0"
     },
     "execution_count": 75,
     "metadata": {},
     "output_type": "execute_result"
    }
   ]
  },
  {
   "cell_type": "code",
   "metadata": {
    "id": "y0eoDEcQ5cZC",
    "colab_type": "code",
    "colab": {
     "base_uri": "https://localhost:8080/",
     "height": 34
    },
    "outputId": "4a520c61-b418-4bdc-8196-f4ea5eee07c8"
   },
   "source": [
    "#Retornando a menor receita\n",
    "df[\"Receita\"].min()"
   ],
   "execution_count": 76,
   "outputs": [
    {
     "data": {
      "text/plain": "3.34"
     },
     "execution_count": 76,
     "metadata": {},
     "output_type": "execute_result"
    }
   ]
  },
  {
   "cell_type": "code",
   "metadata": {
    "id": "gX87zZJ45p5e",
    "colab_type": "code",
    "colab": {
     "base_uri": "https://localhost:8080/",
     "height": 142
    },
    "outputId": "bf1cce13-9157-4752-cf40-32b31f0c6977"
   },
   "source": [
    "#nlargest\n",
    "df.nlargest(3, \"Receita\")"
   ],
   "execution_count": 77,
   "outputs": [
    {
     "data": {
      "text/plain": "   Cidade       Data  Vendas LojaID  Qtde  Receita  Receita/Vendas\n7   Natal 2019-03-18   886.0    853     4   3544.0             4.0\n51  Natal 2018-01-21   859.0    852     4   3436.0             4.0\n55  Natal 2019-01-08   859.0    854     4   3436.0             4.0",
      "text/html": "<div>\n<style scoped>\n    .dataframe tbody tr th:only-of-type {\n        vertical-align: middle;\n    }\n\n    .dataframe tbody tr th {\n        vertical-align: top;\n    }\n\n    .dataframe thead th {\n        text-align: right;\n    }\n</style>\n<table border=\"1\" class=\"dataframe\">\n  <thead>\n    <tr style=\"text-align: right;\">\n      <th></th>\n      <th>Cidade</th>\n      <th>Data</th>\n      <th>Vendas</th>\n      <th>LojaID</th>\n      <th>Qtde</th>\n      <th>Receita</th>\n      <th>Receita/Vendas</th>\n    </tr>\n  </thead>\n  <tbody>\n    <tr>\n      <th>7</th>\n      <td>Natal</td>\n      <td>2019-03-18</td>\n      <td>886.0</td>\n      <td>853</td>\n      <td>4</td>\n      <td>3544.0</td>\n      <td>4.0</td>\n    </tr>\n    <tr>\n      <th>51</th>\n      <td>Natal</td>\n      <td>2018-01-21</td>\n      <td>859.0</td>\n      <td>852</td>\n      <td>4</td>\n      <td>3436.0</td>\n      <td>4.0</td>\n    </tr>\n    <tr>\n      <th>55</th>\n      <td>Natal</td>\n      <td>2019-01-08</td>\n      <td>859.0</td>\n      <td>854</td>\n      <td>4</td>\n      <td>3436.0</td>\n      <td>4.0</td>\n    </tr>\n  </tbody>\n</table>\n</div>"
     },
     "execution_count": 77,
     "metadata": {},
     "output_type": "execute_result"
    }
   ]
  },
  {
   "cell_type": "code",
   "metadata": {
    "id": "gPK25dF_5w8q",
    "colab_type": "code",
    "colab": {
     "base_uri": "https://localhost:8080/",
     "height": 142
    },
    "outputId": "dc8bdffa-f584-4baa-a1d9-67bf4006048a"
   },
   "source": [
    "#nsamllest\n",
    "df.nsmallest(3, \"Receita\")"
   ],
   "execution_count": 78,
   "outputs": [
    {
     "data": {
      "text/plain": "      Cidade       Data  Vendas LojaID  Qtde  Receita  Receita/Vendas\n118  Aracaju 2018-01-01    3.34   1522     1     3.34             1.0\n65    Recife 2019-01-01    4.01    981     1     4.01             1.0\n92     Natal 2019-01-02    4.57   1035     1     4.57             1.0",
      "text/html": "<div>\n<style scoped>\n    .dataframe tbody tr th:only-of-type {\n        vertical-align: middle;\n    }\n\n    .dataframe tbody tr th {\n        vertical-align: top;\n    }\n\n    .dataframe thead th {\n        text-align: right;\n    }\n</style>\n<table border=\"1\" class=\"dataframe\">\n  <thead>\n    <tr style=\"text-align: right;\">\n      <th></th>\n      <th>Cidade</th>\n      <th>Data</th>\n      <th>Vendas</th>\n      <th>LojaID</th>\n      <th>Qtde</th>\n      <th>Receita</th>\n      <th>Receita/Vendas</th>\n    </tr>\n  </thead>\n  <tbody>\n    <tr>\n      <th>118</th>\n      <td>Aracaju</td>\n      <td>2018-01-01</td>\n      <td>3.34</td>\n      <td>1522</td>\n      <td>1</td>\n      <td>3.34</td>\n      <td>1.0</td>\n    </tr>\n    <tr>\n      <th>65</th>\n      <td>Recife</td>\n      <td>2019-01-01</td>\n      <td>4.01</td>\n      <td>981</td>\n      <td>1</td>\n      <td>4.01</td>\n      <td>1.0</td>\n    </tr>\n    <tr>\n      <th>92</th>\n      <td>Natal</td>\n      <td>2019-01-02</td>\n      <td>4.57</td>\n      <td>1035</td>\n      <td>1</td>\n      <td>4.57</td>\n      <td>1.0</td>\n    </tr>\n  </tbody>\n</table>\n</div>"
     },
     "execution_count": 78,
     "metadata": {},
     "output_type": "execute_result"
    }
   ]
  },
  {
   "cell_type": "code",
   "metadata": {
    "id": "VS5Bu2fQ53fG",
    "colab_type": "code",
    "colab": {
     "base_uri": "https://localhost:8080/",
     "height": 136
    },
    "outputId": "8d41e480-5db7-4175-cb4e-184f91a52a38"
   },
   "source": [
    "#Agrupamento por cidade\n",
    "df.groupby(\"Cidade\")[\"Receita\"].sum()"
   ],
   "execution_count": 79,
   "outputs": [
    {
     "data": {
      "text/plain": "Cidade\nAracaju       48748.25\nFortaleza     37913.97\nNatal        167227.52\nRecife        51936.51\nSalvador      40596.73\nName: Receita, dtype: float64"
     },
     "execution_count": 79,
     "metadata": {},
     "output_type": "execute_result"
    }
   ]
  },
  {
   "cell_type": "code",
   "metadata": {
    "id": "wYZDthyQ6DMI",
    "colab_type": "code",
    "colab": {
     "base_uri": "https://localhost:8080/",
     "height": 359
    },
    "outputId": "524d93a9-0246-46fe-8bfe-9451bc52b65a"
   },
   "source": [
    "#Ordenando o conjunto de dados\n",
    "df.sort_values(\"Receita\", ascending=False).head(10)"
   ],
   "execution_count": 80,
   "outputs": [
    {
     "data": {
      "text/plain": "   Cidade       Data  Vendas LojaID  Qtde  Receita  Receita/Vendas\n7   Natal 2019-03-18   886.0    853     4   3544.0             4.0\n55  Natal 2019-01-08   859.0    854     4   3436.0             4.0\n51  Natal 2018-01-21   859.0    852     4   3436.0             4.0\n30  Natal 2018-10-02   856.0    853     4   3424.0             4.0\n41  Natal 2018-05-20   835.0    852     4   3340.0             4.0\n38  Natal 2018-02-25   828.0    852     4   3312.0             4.0\n10  Natal 2018-10-27   828.0    852     4   3312.0             4.0\n69  Natal 2019-03-24   817.0    852     4   3268.0             4.0\n62  Natal 2018-02-10   793.0    854     4   3172.0             4.0\n52  Natal 2018-04-27   778.0    854     4   3112.0             4.0",
      "text/html": "<div>\n<style scoped>\n    .dataframe tbody tr th:only-of-type {\n        vertical-align: middle;\n    }\n\n    .dataframe tbody tr th {\n        vertical-align: top;\n    }\n\n    .dataframe thead th {\n        text-align: right;\n    }\n</style>\n<table border=\"1\" class=\"dataframe\">\n  <thead>\n    <tr style=\"text-align: right;\">\n      <th></th>\n      <th>Cidade</th>\n      <th>Data</th>\n      <th>Vendas</th>\n      <th>LojaID</th>\n      <th>Qtde</th>\n      <th>Receita</th>\n      <th>Receita/Vendas</th>\n    </tr>\n  </thead>\n  <tbody>\n    <tr>\n      <th>7</th>\n      <td>Natal</td>\n      <td>2019-03-18</td>\n      <td>886.0</td>\n      <td>853</td>\n      <td>4</td>\n      <td>3544.0</td>\n      <td>4.0</td>\n    </tr>\n    <tr>\n      <th>55</th>\n      <td>Natal</td>\n      <td>2019-01-08</td>\n      <td>859.0</td>\n      <td>854</td>\n      <td>4</td>\n      <td>3436.0</td>\n      <td>4.0</td>\n    </tr>\n    <tr>\n      <th>51</th>\n      <td>Natal</td>\n      <td>2018-01-21</td>\n      <td>859.0</td>\n      <td>852</td>\n      <td>4</td>\n      <td>3436.0</td>\n      <td>4.0</td>\n    </tr>\n    <tr>\n      <th>30</th>\n      <td>Natal</td>\n      <td>2018-10-02</td>\n      <td>856.0</td>\n      <td>853</td>\n      <td>4</td>\n      <td>3424.0</td>\n      <td>4.0</td>\n    </tr>\n    <tr>\n      <th>41</th>\n      <td>Natal</td>\n      <td>2018-05-20</td>\n      <td>835.0</td>\n      <td>852</td>\n      <td>4</td>\n      <td>3340.0</td>\n      <td>4.0</td>\n    </tr>\n    <tr>\n      <th>38</th>\n      <td>Natal</td>\n      <td>2018-02-25</td>\n      <td>828.0</td>\n      <td>852</td>\n      <td>4</td>\n      <td>3312.0</td>\n      <td>4.0</td>\n    </tr>\n    <tr>\n      <th>10</th>\n      <td>Natal</td>\n      <td>2018-10-27</td>\n      <td>828.0</td>\n      <td>852</td>\n      <td>4</td>\n      <td>3312.0</td>\n      <td>4.0</td>\n    </tr>\n    <tr>\n      <th>69</th>\n      <td>Natal</td>\n      <td>2019-03-24</td>\n      <td>817.0</td>\n      <td>852</td>\n      <td>4</td>\n      <td>3268.0</td>\n      <td>4.0</td>\n    </tr>\n    <tr>\n      <th>62</th>\n      <td>Natal</td>\n      <td>2018-02-10</td>\n      <td>793.0</td>\n      <td>854</td>\n      <td>4</td>\n      <td>3172.0</td>\n      <td>4.0</td>\n    </tr>\n    <tr>\n      <th>52</th>\n      <td>Natal</td>\n      <td>2018-04-27</td>\n      <td>778.0</td>\n      <td>854</td>\n      <td>4</td>\n      <td>3112.0</td>\n      <td>4.0</td>\n    </tr>\n  </tbody>\n</table>\n</div>"
     },
     "execution_count": 80,
     "metadata": {},
     "output_type": "execute_result"
    }
   ]
  },
  {
   "cell_type": "markdown",
   "metadata": {
    "id": "6cA7C78N6sV2",
    "colab_type": "text"
   },
   "source": [
    "#**Trabalhando com datas**"
   ]
  },
  {
   "cell_type": "code",
   "metadata": {
    "id": "bRaEoWjR6deI",
    "colab_type": "code",
    "colab": {}
   },
   "source": [
    "df[\"Data\"] = df[\"Data\"].astype(\"int64\")"
   ],
   "execution_count": 81,
   "outputs": []
  },
  {
   "cell_type": "code",
   "metadata": {
    "id": "dz5kfhncHi7Y",
    "colab_type": "code",
    "colab": {
     "base_uri": "https://localhost:8080/",
     "height": 153
    },
    "outputId": "275eb110-54a8-450e-b8c6-165961d670b7"
   },
   "source": [
    "df.dtypes"
   ],
   "execution_count": 82,
   "outputs": [
    {
     "data": {
      "text/plain": "Cidade             object\nData                int64\nVendas            float64\nLojaID             object\nQtde                int64\nReceita           float64\nReceita/Vendas    float64\ndtype: object"
     },
     "execution_count": 82,
     "metadata": {},
     "output_type": "execute_result"
    }
   ]
  },
  {
   "cell_type": "code",
   "metadata": {
    "id": "oQhrdhlyHkED",
    "colab_type": "code",
    "colab": {}
   },
   "source": [
    "#Transformando coluna de data em data\n",
    "df[\"Data\"] = pd.to_datetime(df[\"Data\"])"
   ],
   "execution_count": 83,
   "outputs": []
  },
  {
   "cell_type": "code",
   "metadata": {
    "id": "F5zeaq6tH1P0",
    "colab_type": "code",
    "colab": {
     "base_uri": "https://localhost:8080/",
     "height": 153
    },
    "outputId": "5b8043b2-c63b-4322-df5a-dd41737591c6"
   },
   "source": [
    "df.dtypes"
   ],
   "execution_count": 84,
   "outputs": [
    {
     "data": {
      "text/plain": "Cidade                    object\nData              datetime64[ns]\nVendas                   float64\nLojaID                    object\nQtde                       int64\nReceita                  float64\nReceita/Vendas           float64\ndtype: object"
     },
     "execution_count": 84,
     "metadata": {},
     "output_type": "execute_result"
    }
   ]
  },
  {
   "cell_type": "code",
   "metadata": {
    "id": "c027o0jyH2qg",
    "colab_type": "code",
    "colab": {
     "base_uri": "https://localhost:8080/",
     "height": 85
    },
    "outputId": "4db1851a-4712-44b6-f297-ec2c16d61f67"
   },
   "source": [
    "df.groupby(df[\"Data\"].dt.year)[\"Receita\"].sum()"
   ],
   "execution_count": 85,
   "outputs": [
    {
     "data": {
      "text/plain": "Data\n2018    118176.53\n2019    228246.45\nName: Receita, dtype: float64"
     },
     "execution_count": 85,
     "metadata": {},
     "output_type": "execute_result"
    }
   ]
  },
  {
   "cell_type": "code",
   "metadata": {
    "id": "kX_HYKgQIEPD",
    "colab_type": "code",
    "colab": {}
   },
   "source": [
    "df[\"Ano_Venda\"] = df[\"Data\"].dt.year"
   ],
   "execution_count": 86,
   "outputs": []
  },
  {
   "cell_type": "code",
   "metadata": {
    "id": "MJjiTggaISUi",
    "colab_type": "code",
    "colab": {
     "base_uri": "https://localhost:8080/",
     "height": 204
    },
    "outputId": "664952a0-57c6-4f6d-ad6f-03a5d846d557"
   },
   "source": [
    "df.sample(5)"
   ],
   "execution_count": 87,
   "outputs": [
    {
     "data": {
      "text/plain": "        Cidade       Data  Vendas LojaID  Qtde  Receita  Receita/Vendas  \\\n180   Salvador 2019-01-02  116.63   1035     2   233.26             2.0   \n64   Fortaleza 2019-01-01  110.31   1005     4   441.24             4.0   \n141     Recife 2019-03-02  182.75    983     8  1462.00             8.0   \n74    Salvador 2019-01-01  170.53   1035     2   341.06             2.0   \n108   Salvador 2019-03-02   11.72   1037     1    11.72             1.0   \n\n     Ano_Venda  \n180       2019  \n64        2019  \n141       2019  \n74        2019  \n108       2019  ",
      "text/html": "<div>\n<style scoped>\n    .dataframe tbody tr th:only-of-type {\n        vertical-align: middle;\n    }\n\n    .dataframe tbody tr th {\n        vertical-align: top;\n    }\n\n    .dataframe thead th {\n        text-align: right;\n    }\n</style>\n<table border=\"1\" class=\"dataframe\">\n  <thead>\n    <tr style=\"text-align: right;\">\n      <th></th>\n      <th>Cidade</th>\n      <th>Data</th>\n      <th>Vendas</th>\n      <th>LojaID</th>\n      <th>Qtde</th>\n      <th>Receita</th>\n      <th>Receita/Vendas</th>\n      <th>Ano_Venda</th>\n    </tr>\n  </thead>\n  <tbody>\n    <tr>\n      <th>180</th>\n      <td>Salvador</td>\n      <td>2019-01-02</td>\n      <td>116.63</td>\n      <td>1035</td>\n      <td>2</td>\n      <td>233.26</td>\n      <td>2.0</td>\n      <td>2019</td>\n    </tr>\n    <tr>\n      <th>64</th>\n      <td>Fortaleza</td>\n      <td>2019-01-01</td>\n      <td>110.31</td>\n      <td>1005</td>\n      <td>4</td>\n      <td>441.24</td>\n      <td>4.0</td>\n      <td>2019</td>\n    </tr>\n    <tr>\n      <th>141</th>\n      <td>Recife</td>\n      <td>2019-03-02</td>\n      <td>182.75</td>\n      <td>983</td>\n      <td>8</td>\n      <td>1462.00</td>\n      <td>8.0</td>\n      <td>2019</td>\n    </tr>\n    <tr>\n      <th>74</th>\n      <td>Salvador</td>\n      <td>2019-01-01</td>\n      <td>170.53</td>\n      <td>1035</td>\n      <td>2</td>\n      <td>341.06</td>\n      <td>2.0</td>\n      <td>2019</td>\n    </tr>\n    <tr>\n      <th>108</th>\n      <td>Salvador</td>\n      <td>2019-03-02</td>\n      <td>11.72</td>\n      <td>1037</td>\n      <td>1</td>\n      <td>11.72</td>\n      <td>1.0</td>\n      <td>2019</td>\n    </tr>\n  </tbody>\n</table>\n</div>"
     },
     "execution_count": 87,
     "metadata": {},
     "output_type": "execute_result"
    }
   ]
  },
  {
   "cell_type": "code",
   "metadata": {
    "id": "QPNcE_6rIT6F",
    "colab_type": "code",
    "colab": {}
   },
   "source": [
    "#Extraindo o mês e o dia\n",
    "df[\"mes_venda\"], df[\"dia_venda\"] = (df[\"Data\"].dt.month, df[\"Data\"].dt.day)"
   ],
   "execution_count": 88,
   "outputs": []
  },
  {
   "cell_type": "code",
   "metadata": {
    "id": "9AOp3NNfIrah",
    "colab_type": "code",
    "colab": {
     "base_uri": "https://localhost:8080/",
     "height": 204
    },
    "outputId": "be23b592-06ec-4eab-88f0-46da74f85544"
   },
   "source": [
    "df.sample(5)"
   ],
   "execution_count": 89,
   "outputs": [
    {
     "data": {
      "text/plain": "        Cidade       Data  Vendas LojaID  Qtde  Receita  Receita/Vendas  \\\n134  Fortaleza 2019-03-02  195.18    980     5   975.90             5.0   \n18      Recife 2019-01-01   49.40    980     5   247.00             5.0   \n105     Recife 2019-01-01   41.12    980     3   123.36             3.0   \n125  Fortaleza 2019-03-02   37.60    983     4   150.40             4.0   \n65     Aracaju 2018-01-01  145.54   1522     3   436.62             3.0   \n\n     Ano_Venda  mes_venda  dia_venda  \n134       2019          3          2  \n18        2019          1          1  \n105       2019          1          1  \n125       2019          3          2  \n65        2018          1          1  ",
      "text/html": "<div>\n<style scoped>\n    .dataframe tbody tr th:only-of-type {\n        vertical-align: middle;\n    }\n\n    .dataframe tbody tr th {\n        vertical-align: top;\n    }\n\n    .dataframe thead th {\n        text-align: right;\n    }\n</style>\n<table border=\"1\" class=\"dataframe\">\n  <thead>\n    <tr style=\"text-align: right;\">\n      <th></th>\n      <th>Cidade</th>\n      <th>Data</th>\n      <th>Vendas</th>\n      <th>LojaID</th>\n      <th>Qtde</th>\n      <th>Receita</th>\n      <th>Receita/Vendas</th>\n      <th>Ano_Venda</th>\n      <th>mes_venda</th>\n      <th>dia_venda</th>\n    </tr>\n  </thead>\n  <tbody>\n    <tr>\n      <th>134</th>\n      <td>Fortaleza</td>\n      <td>2019-03-02</td>\n      <td>195.18</td>\n      <td>980</td>\n      <td>5</td>\n      <td>975.90</td>\n      <td>5.0</td>\n      <td>2019</td>\n      <td>3</td>\n      <td>2</td>\n    </tr>\n    <tr>\n      <th>18</th>\n      <td>Recife</td>\n      <td>2019-01-01</td>\n      <td>49.40</td>\n      <td>980</td>\n      <td>5</td>\n      <td>247.00</td>\n      <td>5.0</td>\n      <td>2019</td>\n      <td>1</td>\n      <td>1</td>\n    </tr>\n    <tr>\n      <th>105</th>\n      <td>Recife</td>\n      <td>2019-01-01</td>\n      <td>41.12</td>\n      <td>980</td>\n      <td>3</td>\n      <td>123.36</td>\n      <td>3.0</td>\n      <td>2019</td>\n      <td>1</td>\n      <td>1</td>\n    </tr>\n    <tr>\n      <th>125</th>\n      <td>Fortaleza</td>\n      <td>2019-03-02</td>\n      <td>37.60</td>\n      <td>983</td>\n      <td>4</td>\n      <td>150.40</td>\n      <td>4.0</td>\n      <td>2019</td>\n      <td>3</td>\n      <td>2</td>\n    </tr>\n    <tr>\n      <th>65</th>\n      <td>Aracaju</td>\n      <td>2018-01-01</td>\n      <td>145.54</td>\n      <td>1522</td>\n      <td>3</td>\n      <td>436.62</td>\n      <td>3.0</td>\n      <td>2018</td>\n      <td>1</td>\n      <td>1</td>\n    </tr>\n  </tbody>\n</table>\n</div>"
     },
     "execution_count": 89,
     "metadata": {},
     "output_type": "execute_result"
    }
   ]
  },
  {
   "cell_type": "code",
   "metadata": {
    "id": "r0la0X6aIuTR",
    "colab_type": "code",
    "colab": {
     "base_uri": "https://localhost:8080/",
     "height": 34
    },
    "outputId": "bd244f1b-6e69-4991-c290-f071af4e0d60"
   },
   "source": [
    "#Retornando a data mais antiga\n",
    "df[\"Data\"].min()"
   ],
   "execution_count": 90,
   "outputs": [
    {
     "data": {
      "text/plain": "Timestamp('2018-01-01 00:00:00')"
     },
     "execution_count": 90,
     "metadata": {},
     "output_type": "execute_result"
    }
   ]
  },
  {
   "cell_type": "code",
   "metadata": {
    "id": "7fxtFDflI7L0",
    "colab_type": "code",
    "colab": {}
   },
   "source": [
    "#Calculando a diferença de dias\n",
    "df[\"diferenca_dias\"] = df[\"Data\"] - df[\"Data\"].min()"
   ],
   "execution_count": 91,
   "outputs": []
  },
  {
   "cell_type": "code",
   "metadata": {
    "id": "997DVEidJKNG",
    "colab_type": "code",
    "colab": {
     "base_uri": "https://localhost:8080/",
     "height": 204
    },
    "outputId": "3cdb03c2-cb8d-4891-b10b-27474beb1806"
   },
   "source": [
    "df.sample(5)"
   ],
   "execution_count": 92,
   "outputs": [
    {
     "data": {
      "text/plain": "        Cidade       Data  Vendas LojaID  Qtde  Receita  Receita/Vendas  \\\n229      Natal 2019-01-02   43.08   1036     2    86.16             2.0   \n14   Fortaleza 2019-01-12  132.68   1005     1   132.68             1.0   \n10   Fortaleza 2019-01-01  179.88   1002     4   719.52             4.0   \n89    Salvador 2019-01-01   17.46   1034     1    17.46             1.0   \n123      Natal 2019-01-02  127.45   1036     3   382.35             3.0   \n\n     Ano_Venda  mes_venda  dia_venda diferenca_dias  \n229       2019          1          2       366 days  \n14        2019          1         12       376 days  \n10        2019          1          1       365 days  \n89        2019          1          1       365 days  \n123       2019          1          2       366 days  ",
      "text/html": "<div>\n<style scoped>\n    .dataframe tbody tr th:only-of-type {\n        vertical-align: middle;\n    }\n\n    .dataframe tbody tr th {\n        vertical-align: top;\n    }\n\n    .dataframe thead th {\n        text-align: right;\n    }\n</style>\n<table border=\"1\" class=\"dataframe\">\n  <thead>\n    <tr style=\"text-align: right;\">\n      <th></th>\n      <th>Cidade</th>\n      <th>Data</th>\n      <th>Vendas</th>\n      <th>LojaID</th>\n      <th>Qtde</th>\n      <th>Receita</th>\n      <th>Receita/Vendas</th>\n      <th>Ano_Venda</th>\n      <th>mes_venda</th>\n      <th>dia_venda</th>\n      <th>diferenca_dias</th>\n    </tr>\n  </thead>\n  <tbody>\n    <tr>\n      <th>229</th>\n      <td>Natal</td>\n      <td>2019-01-02</td>\n      <td>43.08</td>\n      <td>1036</td>\n      <td>2</td>\n      <td>86.16</td>\n      <td>2.0</td>\n      <td>2019</td>\n      <td>1</td>\n      <td>2</td>\n      <td>366 days</td>\n    </tr>\n    <tr>\n      <th>14</th>\n      <td>Fortaleza</td>\n      <td>2019-01-12</td>\n      <td>132.68</td>\n      <td>1005</td>\n      <td>1</td>\n      <td>132.68</td>\n      <td>1.0</td>\n      <td>2019</td>\n      <td>1</td>\n      <td>12</td>\n      <td>376 days</td>\n    </tr>\n    <tr>\n      <th>10</th>\n      <td>Fortaleza</td>\n      <td>2019-01-01</td>\n      <td>179.88</td>\n      <td>1002</td>\n      <td>4</td>\n      <td>719.52</td>\n      <td>4.0</td>\n      <td>2019</td>\n      <td>1</td>\n      <td>1</td>\n      <td>365 days</td>\n    </tr>\n    <tr>\n      <th>89</th>\n      <td>Salvador</td>\n      <td>2019-01-01</td>\n      <td>17.46</td>\n      <td>1034</td>\n      <td>1</td>\n      <td>17.46</td>\n      <td>1.0</td>\n      <td>2019</td>\n      <td>1</td>\n      <td>1</td>\n      <td>365 days</td>\n    </tr>\n    <tr>\n      <th>123</th>\n      <td>Natal</td>\n      <td>2019-01-02</td>\n      <td>127.45</td>\n      <td>1036</td>\n      <td>3</td>\n      <td>382.35</td>\n      <td>3.0</td>\n      <td>2019</td>\n      <td>1</td>\n      <td>2</td>\n      <td>366 days</td>\n    </tr>\n  </tbody>\n</table>\n</div>"
     },
     "execution_count": 92,
     "metadata": {},
     "output_type": "execute_result"
    }
   ]
  },
  {
   "cell_type": "code",
   "metadata": {
    "id": "KHAOU_EuJLkb",
    "colab_type": "code",
    "colab": {}
   },
   "source": [
    "#Criando a coluna de trimestre\n",
    "df[\"trimestre_venda\"] = df[\"Data\"].dt.quarter"
   ],
   "execution_count": 93,
   "outputs": []
  },
  {
   "cell_type": "code",
   "metadata": {
    "id": "OWZos9y5JbDQ",
    "colab_type": "code",
    "colab": {
     "base_uri": "https://localhost:8080/",
     "height": 204
    },
    "outputId": "79806c1f-ed51-4705-d0b9-cbb2659f5844"
   },
   "source": [
    "df.sample(5)"
   ],
   "execution_count": 94,
   "outputs": [
    {
     "data": {
      "text/plain": "       Cidade       Data  Vendas LojaID  Qtde  Receita  Receita/Vendas  \\\n199     Natal 2019-01-02  153.87   1036     3   461.61             3.0   \n69      Natal 2019-03-24  817.00    852     4  3268.00             4.0   \n231     Natal 2019-01-03   89.85   1034     2   179.70             2.0   \n238  Salvador 2019-01-03  139.64   1035     1   139.64             1.0   \n88     Recife 2019-01-01  180.24    980     6  1081.44             6.0   \n\n     Ano_Venda  mes_venda  dia_venda diferenca_dias  trimestre_venda  \n199       2019          1          2       366 days                1  \n69        2019          3         24       447 days                1  \n231       2019          1          3       367 days                1  \n238       2019          1          3       367 days                1  \n88        2019          1          1       365 days                1  ",
      "text/html": "<div>\n<style scoped>\n    .dataframe tbody tr th:only-of-type {\n        vertical-align: middle;\n    }\n\n    .dataframe tbody tr th {\n        vertical-align: top;\n    }\n\n    .dataframe thead th {\n        text-align: right;\n    }\n</style>\n<table border=\"1\" class=\"dataframe\">\n  <thead>\n    <tr style=\"text-align: right;\">\n      <th></th>\n      <th>Cidade</th>\n      <th>Data</th>\n      <th>Vendas</th>\n      <th>LojaID</th>\n      <th>Qtde</th>\n      <th>Receita</th>\n      <th>Receita/Vendas</th>\n      <th>Ano_Venda</th>\n      <th>mes_venda</th>\n      <th>dia_venda</th>\n      <th>diferenca_dias</th>\n      <th>trimestre_venda</th>\n    </tr>\n  </thead>\n  <tbody>\n    <tr>\n      <th>199</th>\n      <td>Natal</td>\n      <td>2019-01-02</td>\n      <td>153.87</td>\n      <td>1036</td>\n      <td>3</td>\n      <td>461.61</td>\n      <td>3.0</td>\n      <td>2019</td>\n      <td>1</td>\n      <td>2</td>\n      <td>366 days</td>\n      <td>1</td>\n    </tr>\n    <tr>\n      <th>69</th>\n      <td>Natal</td>\n      <td>2019-03-24</td>\n      <td>817.00</td>\n      <td>852</td>\n      <td>4</td>\n      <td>3268.00</td>\n      <td>4.0</td>\n      <td>2019</td>\n      <td>3</td>\n      <td>24</td>\n      <td>447 days</td>\n      <td>1</td>\n    </tr>\n    <tr>\n      <th>231</th>\n      <td>Natal</td>\n      <td>2019-01-03</td>\n      <td>89.85</td>\n      <td>1034</td>\n      <td>2</td>\n      <td>179.70</td>\n      <td>2.0</td>\n      <td>2019</td>\n      <td>1</td>\n      <td>3</td>\n      <td>367 days</td>\n      <td>1</td>\n    </tr>\n    <tr>\n      <th>238</th>\n      <td>Salvador</td>\n      <td>2019-01-03</td>\n      <td>139.64</td>\n      <td>1035</td>\n      <td>1</td>\n      <td>139.64</td>\n      <td>1.0</td>\n      <td>2019</td>\n      <td>1</td>\n      <td>3</td>\n      <td>367 days</td>\n      <td>1</td>\n    </tr>\n    <tr>\n      <th>88</th>\n      <td>Recife</td>\n      <td>2019-01-01</td>\n      <td>180.24</td>\n      <td>980</td>\n      <td>6</td>\n      <td>1081.44</td>\n      <td>6.0</td>\n      <td>2019</td>\n      <td>1</td>\n      <td>1</td>\n      <td>365 days</td>\n      <td>1</td>\n    </tr>\n  </tbody>\n</table>\n</div>"
     },
     "execution_count": 94,
     "metadata": {},
     "output_type": "execute_result"
    }
   ]
  },
  {
   "cell_type": "code",
   "metadata": {
    "id": "ie2WTtU5Jc-G",
    "colab_type": "code",
    "colab": {}
   },
   "source": [
    "#Filtrando as vendas de 2019 do mês de março\n",
    "vendas_marco_19 = df.loc[(df[\"Data\"].dt.year == 2019) & (df[\"Data\"].dt.month == 3)]"
   ],
   "execution_count": 95,
   "outputs": []
  },
  {
   "cell_type": "code",
   "metadata": {
    "id": "4x6GgzC9KB_e",
    "colab_type": "code",
    "colab": {
     "base_uri": "https://localhost:8080/",
     "height": 669
    },
    "outputId": "c65a0365-31d1-4876-96a9-803c355a4bed"
   },
   "source": [
    "vendas_marco_19.sample(20)"
   ],
   "execution_count": 96,
   "outputs": [
    {
     "data": {
      "text/plain": "        Cidade       Data  Vendas LojaID  Qtde  Receita  Receita/Vendas  \\\n132     Recife 2019-03-02   17.49    983     5    87.45             5.0   \n132   Salvador 2019-03-02   19.61   1036     2    39.22             2.0   \n133     Recife 2019-03-02   14.67    980     7   102.69             7.0   \n122   Salvador 2019-03-02   13.27   1037     1    13.27             1.0   \n66       Natal 2019-03-24  559.00    853     2  1118.00             2.0   \n119     Recife 2019-03-02  152.30    982     7  1066.10             7.0   \n141   Salvador 2019-03-02    9.08   1036     1     9.08             1.0   \n75       Natal 2019-03-30  706.00    854     2  1412.00             2.0   \n50       Natal 2019-03-08  324.00    854     4  1296.00             4.0   \n126     Recife 2019-03-02   41.87    980     8   334.96             8.0   \n134   Salvador 2019-03-02  125.90   1036     1   125.90             1.0   \n119   Salvador 2019-03-02  136.37   1034     2   272.74             2.0   \n115     Recife 2019-03-02   12.23    981     3    36.69             3.0   \n111     Recife 2019-03-02    8.00    981     3    24.00             3.0   \n118   Salvador 2019-03-02   92.21   1035     2   184.42             2.0   \n137  Fortaleza 2019-03-02   51.99    983     3   155.97             3.0   \n118  Fortaleza 2019-03-02   17.70    981     5    88.50             5.0   \n125     Recife 2019-03-02   37.60    983     4   150.40             4.0   \n82       Natal 2019-03-07  868.00    854     3  2604.00             3.0   \n130   Salvador 2019-03-02   59.78   1036     1    59.78             1.0   \n\n     Ano_Venda  mes_venda  dia_venda diferenca_dias  trimestre_venda  \n132       2019          3          2       425 days                1  \n132       2019          3          2       425 days                1  \n133       2019          3          2       425 days                1  \n122       2019          3          2       425 days                1  \n66        2019          3         24       447 days                1  \n119       2019          3          2       425 days                1  \n141       2019          3          2       425 days                1  \n75        2019          3         30       453 days                1  \n50        2019          3          8       431 days                1  \n126       2019          3          2       425 days                1  \n134       2019          3          2       425 days                1  \n119       2019          3          2       425 days                1  \n115       2019          3          2       425 days                1  \n111       2019          3          2       425 days                1  \n118       2019          3          2       425 days                1  \n137       2019          3          2       425 days                1  \n118       2019          3          2       425 days                1  \n125       2019          3          2       425 days                1  \n82        2019          3          7       430 days                1  \n130       2019          3          2       425 days                1  ",
      "text/html": "<div>\n<style scoped>\n    .dataframe tbody tr th:only-of-type {\n        vertical-align: middle;\n    }\n\n    .dataframe tbody tr th {\n        vertical-align: top;\n    }\n\n    .dataframe thead th {\n        text-align: right;\n    }\n</style>\n<table border=\"1\" class=\"dataframe\">\n  <thead>\n    <tr style=\"text-align: right;\">\n      <th></th>\n      <th>Cidade</th>\n      <th>Data</th>\n      <th>Vendas</th>\n      <th>LojaID</th>\n      <th>Qtde</th>\n      <th>Receita</th>\n      <th>Receita/Vendas</th>\n      <th>Ano_Venda</th>\n      <th>mes_venda</th>\n      <th>dia_venda</th>\n      <th>diferenca_dias</th>\n      <th>trimestre_venda</th>\n    </tr>\n  </thead>\n  <tbody>\n    <tr>\n      <th>132</th>\n      <td>Recife</td>\n      <td>2019-03-02</td>\n      <td>17.49</td>\n      <td>983</td>\n      <td>5</td>\n      <td>87.45</td>\n      <td>5.0</td>\n      <td>2019</td>\n      <td>3</td>\n      <td>2</td>\n      <td>425 days</td>\n      <td>1</td>\n    </tr>\n    <tr>\n      <th>132</th>\n      <td>Salvador</td>\n      <td>2019-03-02</td>\n      <td>19.61</td>\n      <td>1036</td>\n      <td>2</td>\n      <td>39.22</td>\n      <td>2.0</td>\n      <td>2019</td>\n      <td>3</td>\n      <td>2</td>\n      <td>425 days</td>\n      <td>1</td>\n    </tr>\n    <tr>\n      <th>133</th>\n      <td>Recife</td>\n      <td>2019-03-02</td>\n      <td>14.67</td>\n      <td>980</td>\n      <td>7</td>\n      <td>102.69</td>\n      <td>7.0</td>\n      <td>2019</td>\n      <td>3</td>\n      <td>2</td>\n      <td>425 days</td>\n      <td>1</td>\n    </tr>\n    <tr>\n      <th>122</th>\n      <td>Salvador</td>\n      <td>2019-03-02</td>\n      <td>13.27</td>\n      <td>1037</td>\n      <td>1</td>\n      <td>13.27</td>\n      <td>1.0</td>\n      <td>2019</td>\n      <td>3</td>\n      <td>2</td>\n      <td>425 days</td>\n      <td>1</td>\n    </tr>\n    <tr>\n      <th>66</th>\n      <td>Natal</td>\n      <td>2019-03-24</td>\n      <td>559.00</td>\n      <td>853</td>\n      <td>2</td>\n      <td>1118.00</td>\n      <td>2.0</td>\n      <td>2019</td>\n      <td>3</td>\n      <td>24</td>\n      <td>447 days</td>\n      <td>1</td>\n    </tr>\n    <tr>\n      <th>119</th>\n      <td>Recife</td>\n      <td>2019-03-02</td>\n      <td>152.30</td>\n      <td>982</td>\n      <td>7</td>\n      <td>1066.10</td>\n      <td>7.0</td>\n      <td>2019</td>\n      <td>3</td>\n      <td>2</td>\n      <td>425 days</td>\n      <td>1</td>\n    </tr>\n    <tr>\n      <th>141</th>\n      <td>Salvador</td>\n      <td>2019-03-02</td>\n      <td>9.08</td>\n      <td>1036</td>\n      <td>1</td>\n      <td>9.08</td>\n      <td>1.0</td>\n      <td>2019</td>\n      <td>3</td>\n      <td>2</td>\n      <td>425 days</td>\n      <td>1</td>\n    </tr>\n    <tr>\n      <th>75</th>\n      <td>Natal</td>\n      <td>2019-03-30</td>\n      <td>706.00</td>\n      <td>854</td>\n      <td>2</td>\n      <td>1412.00</td>\n      <td>2.0</td>\n      <td>2019</td>\n      <td>3</td>\n      <td>30</td>\n      <td>453 days</td>\n      <td>1</td>\n    </tr>\n    <tr>\n      <th>50</th>\n      <td>Natal</td>\n      <td>2019-03-08</td>\n      <td>324.00</td>\n      <td>854</td>\n      <td>4</td>\n      <td>1296.00</td>\n      <td>4.0</td>\n      <td>2019</td>\n      <td>3</td>\n      <td>8</td>\n      <td>431 days</td>\n      <td>1</td>\n    </tr>\n    <tr>\n      <th>126</th>\n      <td>Recife</td>\n      <td>2019-03-02</td>\n      <td>41.87</td>\n      <td>980</td>\n      <td>8</td>\n      <td>334.96</td>\n      <td>8.0</td>\n      <td>2019</td>\n      <td>3</td>\n      <td>2</td>\n      <td>425 days</td>\n      <td>1</td>\n    </tr>\n    <tr>\n      <th>134</th>\n      <td>Salvador</td>\n      <td>2019-03-02</td>\n      <td>125.90</td>\n      <td>1036</td>\n      <td>1</td>\n      <td>125.90</td>\n      <td>1.0</td>\n      <td>2019</td>\n      <td>3</td>\n      <td>2</td>\n      <td>425 days</td>\n      <td>1</td>\n    </tr>\n    <tr>\n      <th>119</th>\n      <td>Salvador</td>\n      <td>2019-03-02</td>\n      <td>136.37</td>\n      <td>1034</td>\n      <td>2</td>\n      <td>272.74</td>\n      <td>2.0</td>\n      <td>2019</td>\n      <td>3</td>\n      <td>2</td>\n      <td>425 days</td>\n      <td>1</td>\n    </tr>\n    <tr>\n      <th>115</th>\n      <td>Recife</td>\n      <td>2019-03-02</td>\n      <td>12.23</td>\n      <td>981</td>\n      <td>3</td>\n      <td>36.69</td>\n      <td>3.0</td>\n      <td>2019</td>\n      <td>3</td>\n      <td>2</td>\n      <td>425 days</td>\n      <td>1</td>\n    </tr>\n    <tr>\n      <th>111</th>\n      <td>Recife</td>\n      <td>2019-03-02</td>\n      <td>8.00</td>\n      <td>981</td>\n      <td>3</td>\n      <td>24.00</td>\n      <td>3.0</td>\n      <td>2019</td>\n      <td>3</td>\n      <td>2</td>\n      <td>425 days</td>\n      <td>1</td>\n    </tr>\n    <tr>\n      <th>118</th>\n      <td>Salvador</td>\n      <td>2019-03-02</td>\n      <td>92.21</td>\n      <td>1035</td>\n      <td>2</td>\n      <td>184.42</td>\n      <td>2.0</td>\n      <td>2019</td>\n      <td>3</td>\n      <td>2</td>\n      <td>425 days</td>\n      <td>1</td>\n    </tr>\n    <tr>\n      <th>137</th>\n      <td>Fortaleza</td>\n      <td>2019-03-02</td>\n      <td>51.99</td>\n      <td>983</td>\n      <td>3</td>\n      <td>155.97</td>\n      <td>3.0</td>\n      <td>2019</td>\n      <td>3</td>\n      <td>2</td>\n      <td>425 days</td>\n      <td>1</td>\n    </tr>\n    <tr>\n      <th>118</th>\n      <td>Fortaleza</td>\n      <td>2019-03-02</td>\n      <td>17.70</td>\n      <td>981</td>\n      <td>5</td>\n      <td>88.50</td>\n      <td>5.0</td>\n      <td>2019</td>\n      <td>3</td>\n      <td>2</td>\n      <td>425 days</td>\n      <td>1</td>\n    </tr>\n    <tr>\n      <th>125</th>\n      <td>Recife</td>\n      <td>2019-03-02</td>\n      <td>37.60</td>\n      <td>983</td>\n      <td>4</td>\n      <td>150.40</td>\n      <td>4.0</td>\n      <td>2019</td>\n      <td>3</td>\n      <td>2</td>\n      <td>425 days</td>\n      <td>1</td>\n    </tr>\n    <tr>\n      <th>82</th>\n      <td>Natal</td>\n      <td>2019-03-07</td>\n      <td>868.00</td>\n      <td>854</td>\n      <td>3</td>\n      <td>2604.00</td>\n      <td>3.0</td>\n      <td>2019</td>\n      <td>3</td>\n      <td>7</td>\n      <td>430 days</td>\n      <td>1</td>\n    </tr>\n    <tr>\n      <th>130</th>\n      <td>Salvador</td>\n      <td>2019-03-02</td>\n      <td>59.78</td>\n      <td>1036</td>\n      <td>1</td>\n      <td>59.78</td>\n      <td>1.0</td>\n      <td>2019</td>\n      <td>3</td>\n      <td>2</td>\n      <td>425 days</td>\n      <td>1</td>\n    </tr>\n  </tbody>\n</table>\n</div>"
     },
     "execution_count": 96,
     "metadata": {},
     "output_type": "execute_result"
    }
   ]
  },
  {
   "cell_type": "code",
   "metadata": {
    "id": "JmZ6dy1xKEtC",
    "colab_type": "code",
    "colab": {}
   },
   "source": [
    ""
   ],
   "execution_count": 96,
   "outputs": []
  }
 ]
}