{
 "nbformat": 4,
 "nbformat_minor": 0,
 "metadata": {
  "colab": {
   "name": "Pandas_Aula7_Visualizacao.ipynb",
   "provenance": []
  },
  "kernelspec": {
   "name": "python3",
   "language": "python",
   "display_name": "Python 3 (ipykernel)"
  }
 },
 "cells": [
  {
   "cell_type": "markdown",
   "metadata": {
    "id": "ZeNH2z6OzfND",
    "colab_type": "text"
   },
   "source": [
    "#**Trabalhando com Planilhas do Excel**"
   ]
  },
  {
   "cell_type": "code",
   "metadata": {
    "id": "Jwz3_uGfzmYp",
    "colab_type": "code",
    "colab": {}
   },
   "source": [
    "#Importando a biblioteca\n",
    "import pandas as pd"
   ],
   "execution_count": 2,
   "outputs": []
  },
  {
   "cell_type": "code",
   "metadata": {
    "id": "pCTDd0YKzqkc",
    "colab_type": "code",
    "colab": {}
   },
   "source": [
    "df1 = pd.read_excel(r\"C:\\Users\\jeffe\\PycharmProjects\\Data_Analysis_Studies\\Data_Analysis_Python_Pandas_DIO\\datasets\\Aracaju.xlsx\")\n",
    "df2 = pd.read_excel(r\"C:\\Users\\jeffe\\PycharmProjects\\Data_Analysis_Studies\\Data_Analysis_Python_Pandas_DIO\\datasets\\Fortaleza.xlsx\")\n",
    "df3 = pd.read_excel(r\"C:\\Users\\jeffe\\PycharmProjects\\Data_Analysis_Studies\\Data_Analysis_Python_Pandas_DIO\\datasets\\Natal.xlsx\")\n",
    "df4 = pd.read_excel(r\"C:\\Users\\jeffe\\PycharmProjects\\Data_Analysis_Studies\\Data_Analysis_Python_Pandas_DIO\\datasets\\Recife.xlsx\")\n",
    "df5 = pd.read_excel(r\"C:\\Users\\jeffe\\PycharmProjects\\Data_Analysis_Studies\\Data_Analysis_Python_Pandas_DIO\\datasets\\Salvador.xlsx\")"
   ],
   "execution_count": 3,
   "outputs": []
  },
  {
   "cell_type": "code",
   "metadata": {
    "id": "bt3rZ7tWBPj7",
    "colab_type": "code",
    "outputId": "ffe2a67a-51ad-4749-d941-81cdd22dd29b",
    "colab": {
     "base_uri": "https://localhost:8080/",
     "height": 204
    }
   },
   "source": [
    "df5.head()"
   ],
   "execution_count": 4,
   "outputs": [
    {
     "data": {
      "text/plain": "     Cidade       Data  Vendas  LojaID  Qtde\n0  Salvador 2018-01-01   31.06    1037     3\n1  Salvador 2018-01-01   19.02    1034     3\n2  Salvador 2019-02-10  173.59    1035     3\n3  Salvador 2019-02-10  176.34    1037     3\n4  Salvador 2019-02-14   19.47    1037     3",
      "text/html": "<div>\n<style scoped>\n    .dataframe tbody tr th:only-of-type {\n        vertical-align: middle;\n    }\n\n    .dataframe tbody tr th {\n        vertical-align: top;\n    }\n\n    .dataframe thead th {\n        text-align: right;\n    }\n</style>\n<table border=\"1\" class=\"dataframe\">\n  <thead>\n    <tr style=\"text-align: right;\">\n      <th></th>\n      <th>Cidade</th>\n      <th>Data</th>\n      <th>Vendas</th>\n      <th>LojaID</th>\n      <th>Qtde</th>\n    </tr>\n  </thead>\n  <tbody>\n    <tr>\n      <th>0</th>\n      <td>Salvador</td>\n      <td>2018-01-01</td>\n      <td>31.06</td>\n      <td>1037</td>\n      <td>3</td>\n    </tr>\n    <tr>\n      <th>1</th>\n      <td>Salvador</td>\n      <td>2018-01-01</td>\n      <td>19.02</td>\n      <td>1034</td>\n      <td>3</td>\n    </tr>\n    <tr>\n      <th>2</th>\n      <td>Salvador</td>\n      <td>2019-02-10</td>\n      <td>173.59</td>\n      <td>1035</td>\n      <td>3</td>\n    </tr>\n    <tr>\n      <th>3</th>\n      <td>Salvador</td>\n      <td>2019-02-10</td>\n      <td>176.34</td>\n      <td>1037</td>\n      <td>3</td>\n    </tr>\n    <tr>\n      <th>4</th>\n      <td>Salvador</td>\n      <td>2019-02-14</td>\n      <td>19.47</td>\n      <td>1037</td>\n      <td>3</td>\n    </tr>\n  </tbody>\n</table>\n</div>"
     },
     "execution_count": 4,
     "metadata": {},
     "output_type": "execute_result"
    }
   ]
  },
  {
   "cell_type": "code",
   "metadata": {
    "id": "7CUnX6220WVx",
    "colab_type": "code",
    "colab": {}
   },
   "source": [
    "#juntando todos os arquivos\n",
    "df = pd.concat([df1,df2,df3,df4,df5])"
   ],
   "execution_count": 5,
   "outputs": []
  },
  {
   "cell_type": "code",
   "metadata": {
    "id": "3ZFau-ii08Lr",
    "colab_type": "code",
    "outputId": "f1ed7fc3-ac01-4af0-cfae-392c343ffb03",
    "colab": {
     "base_uri": "https://localhost:8080/",
     "height": 204
    }
   },
   "source": [
    "#Exibindo as 5 primeiras linhas\n",
    "df.head()"
   ],
   "execution_count": 6,
   "outputs": [
    {
     "data": {
      "text/plain": "    Cidade       Data  Vendas  LojaID  Qtde\n0  Aracaju 2018-01-01  142.00    1520     1\n1  Aracaju 2018-01-01   14.21    1522     6\n2  Aracaju 2018-01-01   71.55    1520     1\n3  Aracaju 2018-01-01    3.01    1521     7\n4  Aracaju 2018-01-01   24.51    1522     8",
      "text/html": "<div>\n<style scoped>\n    .dataframe tbody tr th:only-of-type {\n        vertical-align: middle;\n    }\n\n    .dataframe tbody tr th {\n        vertical-align: top;\n    }\n\n    .dataframe thead th {\n        text-align: right;\n    }\n</style>\n<table border=\"1\" class=\"dataframe\">\n  <thead>\n    <tr style=\"text-align: right;\">\n      <th></th>\n      <th>Cidade</th>\n      <th>Data</th>\n      <th>Vendas</th>\n      <th>LojaID</th>\n      <th>Qtde</th>\n    </tr>\n  </thead>\n  <tbody>\n    <tr>\n      <th>0</th>\n      <td>Aracaju</td>\n      <td>2018-01-01</td>\n      <td>142.00</td>\n      <td>1520</td>\n      <td>1</td>\n    </tr>\n    <tr>\n      <th>1</th>\n      <td>Aracaju</td>\n      <td>2018-01-01</td>\n      <td>14.21</td>\n      <td>1522</td>\n      <td>6</td>\n    </tr>\n    <tr>\n      <th>2</th>\n      <td>Aracaju</td>\n      <td>2018-01-01</td>\n      <td>71.55</td>\n      <td>1520</td>\n      <td>1</td>\n    </tr>\n    <tr>\n      <th>3</th>\n      <td>Aracaju</td>\n      <td>2018-01-01</td>\n      <td>3.01</td>\n      <td>1521</td>\n      <td>7</td>\n    </tr>\n    <tr>\n      <th>4</th>\n      <td>Aracaju</td>\n      <td>2018-01-01</td>\n      <td>24.51</td>\n      <td>1522</td>\n      <td>8</td>\n    </tr>\n  </tbody>\n</table>\n</div>"
     },
     "execution_count": 6,
     "metadata": {},
     "output_type": "execute_result"
    }
   ]
  },
  {
   "cell_type": "code",
   "metadata": {
    "id": "oURFLxhL09Uq",
    "colab_type": "code",
    "outputId": "15c819f5-a1c0-42ac-a1be-4727c424340a",
    "colab": {
     "base_uri": "https://localhost:8080/",
     "height": 204
    }
   },
   "source": [
    "#Exibindo as 5 últimas linhas\n",
    "df.tail()"
   ],
   "execution_count": 7,
   "outputs": [
    {
     "data": {
      "text/plain": "       Cidade       Data  Vendas  LojaID  Qtde\n235  Salvador 2019-01-03   41.84    1034     1\n236  Salvador 2019-01-03  126.29    1035     3\n237  Salvador 2019-01-03   38.06    1036     3\n238  Salvador 2019-01-03  139.64    1035     1\n239  Salvador 2019-01-03  161.41    1037     3",
      "text/html": "<div>\n<style scoped>\n    .dataframe tbody tr th:only-of-type {\n        vertical-align: middle;\n    }\n\n    .dataframe tbody tr th {\n        vertical-align: top;\n    }\n\n    .dataframe thead th {\n        text-align: right;\n    }\n</style>\n<table border=\"1\" class=\"dataframe\">\n  <thead>\n    <tr style=\"text-align: right;\">\n      <th></th>\n      <th>Cidade</th>\n      <th>Data</th>\n      <th>Vendas</th>\n      <th>LojaID</th>\n      <th>Qtde</th>\n    </tr>\n  </thead>\n  <tbody>\n    <tr>\n      <th>235</th>\n      <td>Salvador</td>\n      <td>2019-01-03</td>\n      <td>41.84</td>\n      <td>1034</td>\n      <td>1</td>\n    </tr>\n    <tr>\n      <th>236</th>\n      <td>Salvador</td>\n      <td>2019-01-03</td>\n      <td>126.29</td>\n      <td>1035</td>\n      <td>3</td>\n    </tr>\n    <tr>\n      <th>237</th>\n      <td>Salvador</td>\n      <td>2019-01-03</td>\n      <td>38.06</td>\n      <td>1036</td>\n      <td>3</td>\n    </tr>\n    <tr>\n      <th>238</th>\n      <td>Salvador</td>\n      <td>2019-01-03</td>\n      <td>139.64</td>\n      <td>1035</td>\n      <td>1</td>\n    </tr>\n    <tr>\n      <th>239</th>\n      <td>Salvador</td>\n      <td>2019-01-03</td>\n      <td>161.41</td>\n      <td>1037</td>\n      <td>3</td>\n    </tr>\n  </tbody>\n</table>\n</div>"
     },
     "execution_count": 7,
     "metadata": {},
     "output_type": "execute_result"
    }
   ]
  },
  {
   "cell_type": "code",
   "metadata": {
    "id": "j8eDDblOBsRG",
    "colab_type": "code",
    "outputId": "efe39301-6ece-4446-a3b9-60cb39095e69",
    "colab": {
     "base_uri": "https://localhost:8080/",
     "height": 204
    }
   },
   "source": [
    "df.sample(5)"
   ],
   "execution_count": 8,
   "outputs": [
    {
     "data": {
      "text/plain": "        Cidade       Data  Vendas  LojaID  Qtde\n68      Recife 2019-01-01  175.45     980     3\n87   Fortaleza 2019-01-01   42.04    1002     5\n20    Salvador 2019-01-01   33.97    1034     3\n109     Recife 2019-03-02   18.90     982     6\n102   Salvador 2019-01-01   40.84    1034     3",
      "text/html": "<div>\n<style scoped>\n    .dataframe tbody tr th:only-of-type {\n        vertical-align: middle;\n    }\n\n    .dataframe tbody tr th {\n        vertical-align: top;\n    }\n\n    .dataframe thead th {\n        text-align: right;\n    }\n</style>\n<table border=\"1\" class=\"dataframe\">\n  <thead>\n    <tr style=\"text-align: right;\">\n      <th></th>\n      <th>Cidade</th>\n      <th>Data</th>\n      <th>Vendas</th>\n      <th>LojaID</th>\n      <th>Qtde</th>\n    </tr>\n  </thead>\n  <tbody>\n    <tr>\n      <th>68</th>\n      <td>Recife</td>\n      <td>2019-01-01</td>\n      <td>175.45</td>\n      <td>980</td>\n      <td>3</td>\n    </tr>\n    <tr>\n      <th>87</th>\n      <td>Fortaleza</td>\n      <td>2019-01-01</td>\n      <td>42.04</td>\n      <td>1002</td>\n      <td>5</td>\n    </tr>\n    <tr>\n      <th>20</th>\n      <td>Salvador</td>\n      <td>2019-01-01</td>\n      <td>33.97</td>\n      <td>1034</td>\n      <td>3</td>\n    </tr>\n    <tr>\n      <th>109</th>\n      <td>Recife</td>\n      <td>2019-03-02</td>\n      <td>18.90</td>\n      <td>982</td>\n      <td>6</td>\n    </tr>\n    <tr>\n      <th>102</th>\n      <td>Salvador</td>\n      <td>2019-01-01</td>\n      <td>40.84</td>\n      <td>1034</td>\n      <td>3</td>\n    </tr>\n  </tbody>\n</table>\n</div>"
     },
     "execution_count": 8,
     "metadata": {},
     "output_type": "execute_result"
    }
   ]
  },
  {
   "cell_type": "code",
   "metadata": {
    "id": "kw0zQfVL0_-L",
    "colab_type": "code",
    "outputId": "3617ad27-63b0-483f-ea6e-1a8413272afc",
    "colab": {
     "base_uri": "https://localhost:8080/",
     "height": 119
    }
   },
   "source": [
    "#Verificando o tipo de dado de cada coluna\n",
    "df.dtypes"
   ],
   "execution_count": 9,
   "outputs": [
    {
     "data": {
      "text/plain": "Cidade            object\nData      datetime64[ns]\nVendas           float64\nLojaID             int64\nQtde               int64\ndtype: object"
     },
     "execution_count": 9,
     "metadata": {},
     "output_type": "execute_result"
    }
   ]
  },
  {
   "cell_type": "code",
   "metadata": {
    "id": "JB2rkM0b1kKF",
    "colab_type": "code",
    "colab": {}
   },
   "source": [
    "#Alterando o tipo de dado da coluna LojaID\n",
    "df[\"LojaID\"] = df[\"LojaID\"].astype(\"object\")"
   ],
   "execution_count": 10,
   "outputs": []
  },
  {
   "cell_type": "code",
   "metadata": {
    "id": "3t1uir2H1w3x",
    "colab_type": "code",
    "outputId": "a8d766f2-504e-4fcb-dc09-842b4c5218b6",
    "colab": {
     "base_uri": "https://localhost:8080/",
     "height": 119
    }
   },
   "source": [
    "df.dtypes"
   ],
   "execution_count": 11,
   "outputs": [
    {
     "data": {
      "text/plain": "Cidade            object\nData      datetime64[ns]\nVendas           float64\nLojaID            object\nQtde               int64\ndtype: object"
     },
     "execution_count": 11,
     "metadata": {},
     "output_type": "execute_result"
    }
   ]
  },
  {
   "cell_type": "code",
   "metadata": {
    "id": "B0Z8PPuJ19dc",
    "colab_type": "code",
    "outputId": "10d2f11c-d421-4434-fe61-dfa537b7d6bf",
    "colab": {
     "base_uri": "https://localhost:8080/",
     "height": 204
    }
   },
   "source": [
    "df.head()"
   ],
   "execution_count": 12,
   "outputs": [
    {
     "data": {
      "text/plain": "    Cidade       Data  Vendas LojaID  Qtde\n0  Aracaju 2018-01-01  142.00   1520     1\n1  Aracaju 2018-01-01   14.21   1522     6\n2  Aracaju 2018-01-01   71.55   1520     1\n3  Aracaju 2018-01-01    3.01   1521     7\n4  Aracaju 2018-01-01   24.51   1522     8",
      "text/html": "<div>\n<style scoped>\n    .dataframe tbody tr th:only-of-type {\n        vertical-align: middle;\n    }\n\n    .dataframe tbody tr th {\n        vertical-align: top;\n    }\n\n    .dataframe thead th {\n        text-align: right;\n    }\n</style>\n<table border=\"1\" class=\"dataframe\">\n  <thead>\n    <tr style=\"text-align: right;\">\n      <th></th>\n      <th>Cidade</th>\n      <th>Data</th>\n      <th>Vendas</th>\n      <th>LojaID</th>\n      <th>Qtde</th>\n    </tr>\n  </thead>\n  <tbody>\n    <tr>\n      <th>0</th>\n      <td>Aracaju</td>\n      <td>2018-01-01</td>\n      <td>142.00</td>\n      <td>1520</td>\n      <td>1</td>\n    </tr>\n    <tr>\n      <th>1</th>\n      <td>Aracaju</td>\n      <td>2018-01-01</td>\n      <td>14.21</td>\n      <td>1522</td>\n      <td>6</td>\n    </tr>\n    <tr>\n      <th>2</th>\n      <td>Aracaju</td>\n      <td>2018-01-01</td>\n      <td>71.55</td>\n      <td>1520</td>\n      <td>1</td>\n    </tr>\n    <tr>\n      <th>3</th>\n      <td>Aracaju</td>\n      <td>2018-01-01</td>\n      <td>3.01</td>\n      <td>1521</td>\n      <td>7</td>\n    </tr>\n    <tr>\n      <th>4</th>\n      <td>Aracaju</td>\n      <td>2018-01-01</td>\n      <td>24.51</td>\n      <td>1522</td>\n      <td>8</td>\n    </tr>\n  </tbody>\n</table>\n</div>"
     },
     "execution_count": 12,
     "metadata": {},
     "output_type": "execute_result"
    }
   ]
  },
  {
   "cell_type": "markdown",
   "metadata": {
    "id": "br1B_k4v2HVF",
    "colab_type": "text"
   },
   "source": [
    "**Tratando valores faltantes**"
   ]
  },
  {
   "cell_type": "code",
   "metadata": {
    "id": "J5L9EehP2MQ_",
    "colab_type": "code",
    "outputId": "91e21217-879a-426d-8b2b-fb15e77b2f87",
    "colab": {
     "base_uri": "https://localhost:8080/",
     "height": 119
    }
   },
   "source": [
    "df.isnull().sum()"
   ],
   "execution_count": 13,
   "outputs": [
    {
     "data": {
      "text/plain": "Cidade    0\nData      0\nVendas    0\nLojaID    0\nQtde      0\ndtype: int64"
     },
     "execution_count": 13,
     "metadata": {},
     "output_type": "execute_result"
    }
   ]
  },
  {
   "cell_type": "code",
   "metadata": {
    "id": "Pbq2ztpN3Qn8",
    "colab_type": "code",
    "colab": {}
   },
   "source": [
    "df[\"Vendas\"].fillna(df[\"Vendas\"].mean(), inplace=True)"
   ],
   "execution_count": 14,
   "outputs": []
  },
  {
   "cell_type": "code",
   "metadata": {
    "id": "mD0kfsgSC4Qm",
    "colab_type": "code",
    "outputId": "ed9d1efa-e3b7-479e-9119-bab340148876",
    "colab": {
     "base_uri": "https://localhost:8080/",
     "height": 34
    }
   },
   "source": [
    "df[\"Vendas\"].mean()"
   ],
   "execution_count": 15,
   "outputs": [
    {
     "data": {
      "text/plain": "122.61180089485458"
     },
     "execution_count": 15,
     "metadata": {},
     "output_type": "execute_result"
    }
   ]
  },
  {
   "cell_type": "code",
   "metadata": {
    "id": "lA5QVn5N4C-A",
    "colab_type": "code",
    "outputId": "84874d37-3368-452f-bed6-43782dea6cf6",
    "colab": {
     "base_uri": "https://localhost:8080/",
     "height": 119
    }
   },
   "source": [
    "df.isnull().sum()"
   ],
   "execution_count": 16,
   "outputs": [
    {
     "data": {
      "text/plain": "Cidade    0\nData      0\nVendas    0\nLojaID    0\nQtde      0\ndtype: int64"
     },
     "execution_count": 16,
     "metadata": {},
     "output_type": "execute_result"
    }
   ]
  },
  {
   "cell_type": "code",
   "metadata": {
    "id": "ds7pcl-ZCzb_",
    "colab_type": "code",
    "outputId": "e37c7b13-8bd1-46e2-e3f3-104e7fce8f8a",
    "colab": {
     "base_uri": "https://localhost:8080/",
     "height": 514
    }
   },
   "source": [
    "df.sample(15)"
   ],
   "execution_count": 17,
   "outputs": [
    {
     "data": {
      "text/plain": "        Cidade       Data  Vendas LojaID  Qtde\n18       Natal 2019-03-14  581.00    853     3\n160   Salvador 2019-01-02   11.76   1034     1\n206      Natal 2019-01-02  151.45   1036     2\n217   Salvador 2019-01-02   37.65   1036     2\n98      Recife 2019-01-01  137.34    981     8\n74   Fortaleza 2019-01-01  163.09   1005     5\n137  Fortaleza 2019-03-02   51.99    983     3\n127     Recife 2019-03-02   39.56    982     8\n2    Fortaleza 2019-02-10   35.33   1004     3\n190   Salvador 2019-01-02   78.78   1035     3\n90     Aracaju 2018-01-01   16.27   1522     1\n17   Fortaleza 2019-01-01  166.80   1004     1\n15      Recife 2019-01-01    7.45    981     2\n116      Natal 2019-01-02   41.78   1034     3\n60     Aracaju 2018-01-01  215.88   1521     3",
      "text/html": "<div>\n<style scoped>\n    .dataframe tbody tr th:only-of-type {\n        vertical-align: middle;\n    }\n\n    .dataframe tbody tr th {\n        vertical-align: top;\n    }\n\n    .dataframe thead th {\n        text-align: right;\n    }\n</style>\n<table border=\"1\" class=\"dataframe\">\n  <thead>\n    <tr style=\"text-align: right;\">\n      <th></th>\n      <th>Cidade</th>\n      <th>Data</th>\n      <th>Vendas</th>\n      <th>LojaID</th>\n      <th>Qtde</th>\n    </tr>\n  </thead>\n  <tbody>\n    <tr>\n      <th>18</th>\n      <td>Natal</td>\n      <td>2019-03-14</td>\n      <td>581.00</td>\n      <td>853</td>\n      <td>3</td>\n    </tr>\n    <tr>\n      <th>160</th>\n      <td>Salvador</td>\n      <td>2019-01-02</td>\n      <td>11.76</td>\n      <td>1034</td>\n      <td>1</td>\n    </tr>\n    <tr>\n      <th>206</th>\n      <td>Natal</td>\n      <td>2019-01-02</td>\n      <td>151.45</td>\n      <td>1036</td>\n      <td>2</td>\n    </tr>\n    <tr>\n      <th>217</th>\n      <td>Salvador</td>\n      <td>2019-01-02</td>\n      <td>37.65</td>\n      <td>1036</td>\n      <td>2</td>\n    </tr>\n    <tr>\n      <th>98</th>\n      <td>Recife</td>\n      <td>2019-01-01</td>\n      <td>137.34</td>\n      <td>981</td>\n      <td>8</td>\n    </tr>\n    <tr>\n      <th>74</th>\n      <td>Fortaleza</td>\n      <td>2019-01-01</td>\n      <td>163.09</td>\n      <td>1005</td>\n      <td>5</td>\n    </tr>\n    <tr>\n      <th>137</th>\n      <td>Fortaleza</td>\n      <td>2019-03-02</td>\n      <td>51.99</td>\n      <td>983</td>\n      <td>3</td>\n    </tr>\n    <tr>\n      <th>127</th>\n      <td>Recife</td>\n      <td>2019-03-02</td>\n      <td>39.56</td>\n      <td>982</td>\n      <td>8</td>\n    </tr>\n    <tr>\n      <th>2</th>\n      <td>Fortaleza</td>\n      <td>2019-02-10</td>\n      <td>35.33</td>\n      <td>1004</td>\n      <td>3</td>\n    </tr>\n    <tr>\n      <th>190</th>\n      <td>Salvador</td>\n      <td>2019-01-02</td>\n      <td>78.78</td>\n      <td>1035</td>\n      <td>3</td>\n    </tr>\n    <tr>\n      <th>90</th>\n      <td>Aracaju</td>\n      <td>2018-01-01</td>\n      <td>16.27</td>\n      <td>1522</td>\n      <td>1</td>\n    </tr>\n    <tr>\n      <th>17</th>\n      <td>Fortaleza</td>\n      <td>2019-01-01</td>\n      <td>166.80</td>\n      <td>1004</td>\n      <td>1</td>\n    </tr>\n    <tr>\n      <th>15</th>\n      <td>Recife</td>\n      <td>2019-01-01</td>\n      <td>7.45</td>\n      <td>981</td>\n      <td>2</td>\n    </tr>\n    <tr>\n      <th>116</th>\n      <td>Natal</td>\n      <td>2019-01-02</td>\n      <td>41.78</td>\n      <td>1034</td>\n      <td>3</td>\n    </tr>\n    <tr>\n      <th>60</th>\n      <td>Aracaju</td>\n      <td>2018-01-01</td>\n      <td>215.88</td>\n      <td>1521</td>\n      <td>3</td>\n    </tr>\n  </tbody>\n</table>\n</div>"
     },
     "execution_count": 17,
     "metadata": {},
     "output_type": "execute_result"
    }
   ]
  },
  {
   "cell_type": "code",
   "metadata": {
    "id": "mMzEuPzg4N7U",
    "colab_type": "code",
    "colab": {}
   },
   "source": [
    "df[\"Vendas\"].fillna(0, inplace=True)"
   ],
   "execution_count": 18,
   "outputs": []
  },
  {
   "cell_type": "code",
   "metadata": {
    "id": "pS7Hw6Df4Z7x",
    "colab_type": "code",
    "colab": {}
   },
   "source": [
    "df.dropna(inplace=True)"
   ],
   "execution_count": 19,
   "outputs": []
  },
  {
   "cell_type": "code",
   "metadata": {
    "id": "iCpMj9MD4mW4",
    "colab_type": "code",
    "colab": {}
   },
   "source": [
    "df.dropna(subset=[\"Vendas\"], inplace=True)"
   ],
   "execution_count": 20,
   "outputs": []
  },
  {
   "cell_type": "code",
   "metadata": {
    "id": "LYGy2VqH8uaM",
    "colab_type": "code",
    "colab": {}
   },
   "source": [
    "#Removendo linhas que estejam com valores faltantes em todas as colunas\n",
    "df.dropna(how=\"all\", inplace=True)"
   ],
   "execution_count": 21,
   "outputs": []
  },
  {
   "cell_type": "markdown",
   "metadata": {
    "id": "6qEyt17h9IwX",
    "colab_type": "text"
   },
   "source": [
    "**Criando colunas novas**"
   ]
  },
  {
   "cell_type": "code",
   "metadata": {
    "id": "1HAAiPkh1yIN",
    "colab_type": "code",
    "colab": {}
   },
   "source": [
    "#Criando a coluna de receita\n",
    "df[\"Receita\"] = df[\"Vendas\"].mul(df[\"Qtde\"])"
   ],
   "execution_count": 22,
   "outputs": []
  },
  {
   "cell_type": "code",
   "metadata": {
    "id": "_gMBlvMq5fPj",
    "colab_type": "code",
    "outputId": "a971500e-05cb-417a-f782-9a7737c2728f",
    "colab": {
     "base_uri": "https://localhost:8080/",
     "height": 204
    }
   },
   "source": [
    "df.head()"
   ],
   "execution_count": 23,
   "outputs": [
    {
     "data": {
      "text/plain": "    Cidade       Data  Vendas LojaID  Qtde  Receita\n0  Aracaju 2018-01-01  142.00   1520     1   142.00\n1  Aracaju 2018-01-01   14.21   1522     6    85.26\n2  Aracaju 2018-01-01   71.55   1520     1    71.55\n3  Aracaju 2018-01-01    3.01   1521     7    21.07\n4  Aracaju 2018-01-01   24.51   1522     8   196.08",
      "text/html": "<div>\n<style scoped>\n    .dataframe tbody tr th:only-of-type {\n        vertical-align: middle;\n    }\n\n    .dataframe tbody tr th {\n        vertical-align: top;\n    }\n\n    .dataframe thead th {\n        text-align: right;\n    }\n</style>\n<table border=\"1\" class=\"dataframe\">\n  <thead>\n    <tr style=\"text-align: right;\">\n      <th></th>\n      <th>Cidade</th>\n      <th>Data</th>\n      <th>Vendas</th>\n      <th>LojaID</th>\n      <th>Qtde</th>\n      <th>Receita</th>\n    </tr>\n  </thead>\n  <tbody>\n    <tr>\n      <th>0</th>\n      <td>Aracaju</td>\n      <td>2018-01-01</td>\n      <td>142.00</td>\n      <td>1520</td>\n      <td>1</td>\n      <td>142.00</td>\n    </tr>\n    <tr>\n      <th>1</th>\n      <td>Aracaju</td>\n      <td>2018-01-01</td>\n      <td>14.21</td>\n      <td>1522</td>\n      <td>6</td>\n      <td>85.26</td>\n    </tr>\n    <tr>\n      <th>2</th>\n      <td>Aracaju</td>\n      <td>2018-01-01</td>\n      <td>71.55</td>\n      <td>1520</td>\n      <td>1</td>\n      <td>71.55</td>\n    </tr>\n    <tr>\n      <th>3</th>\n      <td>Aracaju</td>\n      <td>2018-01-01</td>\n      <td>3.01</td>\n      <td>1521</td>\n      <td>7</td>\n      <td>21.07</td>\n    </tr>\n    <tr>\n      <th>4</th>\n      <td>Aracaju</td>\n      <td>2018-01-01</td>\n      <td>24.51</td>\n      <td>1522</td>\n      <td>8</td>\n      <td>196.08</td>\n    </tr>\n  </tbody>\n</table>\n</div>"
     },
     "execution_count": 23,
     "metadata": {},
     "output_type": "execute_result"
    }
   ]
  },
  {
   "cell_type": "code",
   "metadata": {
    "id": "DyU5SIhB9Q8w",
    "colab_type": "code",
    "colab": {}
   },
   "source": [
    "df[\"Receita/Vendas\"] = df[\"Receita\"] / df[\"Vendas\"] "
   ],
   "execution_count": 24,
   "outputs": []
  },
  {
   "cell_type": "code",
   "metadata": {
    "id": "YfMgO16q9m8F",
    "colab_type": "code",
    "outputId": "6b323566-e8aa-4a51-8623-cd0c7ec0cd69",
    "colab": {
     "base_uri": "https://localhost:8080/",
     "height": 204
    }
   },
   "source": [
    "df.head()"
   ],
   "execution_count": 25,
   "outputs": [
    {
     "data": {
      "text/plain": "    Cidade       Data  Vendas LojaID  Qtde  Receita  Receita/Vendas\n0  Aracaju 2018-01-01  142.00   1520     1   142.00             1.0\n1  Aracaju 2018-01-01   14.21   1522     6    85.26             6.0\n2  Aracaju 2018-01-01   71.55   1520     1    71.55             1.0\n3  Aracaju 2018-01-01    3.01   1521     7    21.07             7.0\n4  Aracaju 2018-01-01   24.51   1522     8   196.08             8.0",
      "text/html": "<div>\n<style scoped>\n    .dataframe tbody tr th:only-of-type {\n        vertical-align: middle;\n    }\n\n    .dataframe tbody tr th {\n        vertical-align: top;\n    }\n\n    .dataframe thead th {\n        text-align: right;\n    }\n</style>\n<table border=\"1\" class=\"dataframe\">\n  <thead>\n    <tr style=\"text-align: right;\">\n      <th></th>\n      <th>Cidade</th>\n      <th>Data</th>\n      <th>Vendas</th>\n      <th>LojaID</th>\n      <th>Qtde</th>\n      <th>Receita</th>\n      <th>Receita/Vendas</th>\n    </tr>\n  </thead>\n  <tbody>\n    <tr>\n      <th>0</th>\n      <td>Aracaju</td>\n      <td>2018-01-01</td>\n      <td>142.00</td>\n      <td>1520</td>\n      <td>1</td>\n      <td>142.00</td>\n      <td>1.0</td>\n    </tr>\n    <tr>\n      <th>1</th>\n      <td>Aracaju</td>\n      <td>2018-01-01</td>\n      <td>14.21</td>\n      <td>1522</td>\n      <td>6</td>\n      <td>85.26</td>\n      <td>6.0</td>\n    </tr>\n    <tr>\n      <th>2</th>\n      <td>Aracaju</td>\n      <td>2018-01-01</td>\n      <td>71.55</td>\n      <td>1520</td>\n      <td>1</td>\n      <td>71.55</td>\n      <td>1.0</td>\n    </tr>\n    <tr>\n      <th>3</th>\n      <td>Aracaju</td>\n      <td>2018-01-01</td>\n      <td>3.01</td>\n      <td>1521</td>\n      <td>7</td>\n      <td>21.07</td>\n      <td>7.0</td>\n    </tr>\n    <tr>\n      <th>4</th>\n      <td>Aracaju</td>\n      <td>2018-01-01</td>\n      <td>24.51</td>\n      <td>1522</td>\n      <td>8</td>\n      <td>196.08</td>\n      <td>8.0</td>\n    </tr>\n  </tbody>\n</table>\n</div>"
     },
     "execution_count": 25,
     "metadata": {},
     "output_type": "execute_result"
    }
   ]
  },
  {
   "cell_type": "code",
   "metadata": {
    "id": "8uy9S6JZ3DB4",
    "colab_type": "code",
    "outputId": "1e059579-152c-4151-8aaf-2f61e689644b",
    "colab": {
     "base_uri": "https://localhost:8080/",
     "height": 34
    }
   },
   "source": [
    "#Retornando a maior receita\n",
    "df[\"Receita\"].max()"
   ],
   "execution_count": 26,
   "outputs": [
    {
     "data": {
      "text/plain": "3544.0"
     },
     "execution_count": 26,
     "metadata": {},
     "output_type": "execute_result"
    }
   ]
  },
  {
   "cell_type": "code",
   "metadata": {
    "id": "y0eoDEcQ5cZC",
    "colab_type": "code",
    "outputId": "4a520c61-b418-4bdc-8196-f4ea5eee07c8",
    "colab": {
     "base_uri": "https://localhost:8080/",
     "height": 34
    }
   },
   "source": [
    "#Retornando a menor receita\n",
    "df[\"Receita\"].min()"
   ],
   "execution_count": 27,
   "outputs": [
    {
     "data": {
      "text/plain": "3.34"
     },
     "execution_count": 27,
     "metadata": {},
     "output_type": "execute_result"
    }
   ]
  },
  {
   "cell_type": "code",
   "metadata": {
    "id": "gX87zZJ45p5e",
    "colab_type": "code",
    "outputId": "bf1cce13-9157-4752-cf40-32b31f0c6977",
    "colab": {
     "base_uri": "https://localhost:8080/",
     "height": 142
    }
   },
   "source": [
    "#nlargest\n",
    "df.nlargest(3, \"Receita\")"
   ],
   "execution_count": 28,
   "outputs": [
    {
     "data": {
      "text/plain": "   Cidade       Data  Vendas LojaID  Qtde  Receita  Receita/Vendas\n7   Natal 2019-03-18   886.0    853     4   3544.0             4.0\n51  Natal 2018-01-21   859.0    852     4   3436.0             4.0\n55  Natal 2019-01-08   859.0    854     4   3436.0             4.0",
      "text/html": "<div>\n<style scoped>\n    .dataframe tbody tr th:only-of-type {\n        vertical-align: middle;\n    }\n\n    .dataframe tbody tr th {\n        vertical-align: top;\n    }\n\n    .dataframe thead th {\n        text-align: right;\n    }\n</style>\n<table border=\"1\" class=\"dataframe\">\n  <thead>\n    <tr style=\"text-align: right;\">\n      <th></th>\n      <th>Cidade</th>\n      <th>Data</th>\n      <th>Vendas</th>\n      <th>LojaID</th>\n      <th>Qtde</th>\n      <th>Receita</th>\n      <th>Receita/Vendas</th>\n    </tr>\n  </thead>\n  <tbody>\n    <tr>\n      <th>7</th>\n      <td>Natal</td>\n      <td>2019-03-18</td>\n      <td>886.0</td>\n      <td>853</td>\n      <td>4</td>\n      <td>3544.0</td>\n      <td>4.0</td>\n    </tr>\n    <tr>\n      <th>51</th>\n      <td>Natal</td>\n      <td>2018-01-21</td>\n      <td>859.0</td>\n      <td>852</td>\n      <td>4</td>\n      <td>3436.0</td>\n      <td>4.0</td>\n    </tr>\n    <tr>\n      <th>55</th>\n      <td>Natal</td>\n      <td>2019-01-08</td>\n      <td>859.0</td>\n      <td>854</td>\n      <td>4</td>\n      <td>3436.0</td>\n      <td>4.0</td>\n    </tr>\n  </tbody>\n</table>\n</div>"
     },
     "execution_count": 28,
     "metadata": {},
     "output_type": "execute_result"
    }
   ]
  },
  {
   "cell_type": "code",
   "metadata": {
    "id": "gPK25dF_5w8q",
    "colab_type": "code",
    "outputId": "dc8bdffa-f584-4baa-a1d9-67bf4006048a",
    "colab": {
     "base_uri": "https://localhost:8080/",
     "height": 142
    }
   },
   "source": [
    "#nsamllest\n",
    "df.nsmallest(3, \"Receita\")"
   ],
   "execution_count": 29,
   "outputs": [
    {
     "data": {
      "text/plain": "      Cidade       Data  Vendas LojaID  Qtde  Receita  Receita/Vendas\n118  Aracaju 2018-01-01    3.34   1522     1     3.34             1.0\n65    Recife 2019-01-01    4.01    981     1     4.01             1.0\n92     Natal 2019-01-02    4.57   1035     1     4.57             1.0",
      "text/html": "<div>\n<style scoped>\n    .dataframe tbody tr th:only-of-type {\n        vertical-align: middle;\n    }\n\n    .dataframe tbody tr th {\n        vertical-align: top;\n    }\n\n    .dataframe thead th {\n        text-align: right;\n    }\n</style>\n<table border=\"1\" class=\"dataframe\">\n  <thead>\n    <tr style=\"text-align: right;\">\n      <th></th>\n      <th>Cidade</th>\n      <th>Data</th>\n      <th>Vendas</th>\n      <th>LojaID</th>\n      <th>Qtde</th>\n      <th>Receita</th>\n      <th>Receita/Vendas</th>\n    </tr>\n  </thead>\n  <tbody>\n    <tr>\n      <th>118</th>\n      <td>Aracaju</td>\n      <td>2018-01-01</td>\n      <td>3.34</td>\n      <td>1522</td>\n      <td>1</td>\n      <td>3.34</td>\n      <td>1.0</td>\n    </tr>\n    <tr>\n      <th>65</th>\n      <td>Recife</td>\n      <td>2019-01-01</td>\n      <td>4.01</td>\n      <td>981</td>\n      <td>1</td>\n      <td>4.01</td>\n      <td>1.0</td>\n    </tr>\n    <tr>\n      <th>92</th>\n      <td>Natal</td>\n      <td>2019-01-02</td>\n      <td>4.57</td>\n      <td>1035</td>\n      <td>1</td>\n      <td>4.57</td>\n      <td>1.0</td>\n    </tr>\n  </tbody>\n</table>\n</div>"
     },
     "execution_count": 29,
     "metadata": {},
     "output_type": "execute_result"
    }
   ]
  },
  {
   "cell_type": "code",
   "metadata": {
    "id": "VS5Bu2fQ53fG",
    "colab_type": "code",
    "outputId": "8d41e480-5db7-4175-cb4e-184f91a52a38",
    "colab": {
     "base_uri": "https://localhost:8080/",
     "height": 136
    }
   },
   "source": [
    "#Agrupamento por cidade\n",
    "df.groupby(\"Cidade\")[\"Receita\"].sum()"
   ],
   "execution_count": 30,
   "outputs": [
    {
     "data": {
      "text/plain": "Cidade\nAracaju       48748.25\nFortaleza     37913.97\nNatal        167227.52\nRecife        51936.51\nSalvador      40596.73\nName: Receita, dtype: float64"
     },
     "execution_count": 30,
     "metadata": {},
     "output_type": "execute_result"
    }
   ]
  },
  {
   "cell_type": "code",
   "metadata": {
    "id": "wYZDthyQ6DMI",
    "colab_type": "code",
    "outputId": "524d93a9-0246-46fe-8bfe-9451bc52b65a",
    "colab": {
     "base_uri": "https://localhost:8080/",
     "height": 359
    }
   },
   "source": [
    "#Ordenando o conjunto de dados\n",
    "df.sort_values(\"Receita\", ascending=False).head(10)"
   ],
   "execution_count": 31,
   "outputs": [
    {
     "data": {
      "text/plain": "   Cidade       Data  Vendas LojaID  Qtde  Receita  Receita/Vendas\n7   Natal 2019-03-18   886.0    853     4   3544.0             4.0\n55  Natal 2019-01-08   859.0    854     4   3436.0             4.0\n51  Natal 2018-01-21   859.0    852     4   3436.0             4.0\n30  Natal 2018-10-02   856.0    853     4   3424.0             4.0\n41  Natal 2018-05-20   835.0    852     4   3340.0             4.0\n38  Natal 2018-02-25   828.0    852     4   3312.0             4.0\n10  Natal 2018-10-27   828.0    852     4   3312.0             4.0\n69  Natal 2019-03-24   817.0    852     4   3268.0             4.0\n62  Natal 2018-02-10   793.0    854     4   3172.0             4.0\n52  Natal 2018-04-27   778.0    854     4   3112.0             4.0",
      "text/html": "<div>\n<style scoped>\n    .dataframe tbody tr th:only-of-type {\n        vertical-align: middle;\n    }\n\n    .dataframe tbody tr th {\n        vertical-align: top;\n    }\n\n    .dataframe thead th {\n        text-align: right;\n    }\n</style>\n<table border=\"1\" class=\"dataframe\">\n  <thead>\n    <tr style=\"text-align: right;\">\n      <th></th>\n      <th>Cidade</th>\n      <th>Data</th>\n      <th>Vendas</th>\n      <th>LojaID</th>\n      <th>Qtde</th>\n      <th>Receita</th>\n      <th>Receita/Vendas</th>\n    </tr>\n  </thead>\n  <tbody>\n    <tr>\n      <th>7</th>\n      <td>Natal</td>\n      <td>2019-03-18</td>\n      <td>886.0</td>\n      <td>853</td>\n      <td>4</td>\n      <td>3544.0</td>\n      <td>4.0</td>\n    </tr>\n    <tr>\n      <th>55</th>\n      <td>Natal</td>\n      <td>2019-01-08</td>\n      <td>859.0</td>\n      <td>854</td>\n      <td>4</td>\n      <td>3436.0</td>\n      <td>4.0</td>\n    </tr>\n    <tr>\n      <th>51</th>\n      <td>Natal</td>\n      <td>2018-01-21</td>\n      <td>859.0</td>\n      <td>852</td>\n      <td>4</td>\n      <td>3436.0</td>\n      <td>4.0</td>\n    </tr>\n    <tr>\n      <th>30</th>\n      <td>Natal</td>\n      <td>2018-10-02</td>\n      <td>856.0</td>\n      <td>853</td>\n      <td>4</td>\n      <td>3424.0</td>\n      <td>4.0</td>\n    </tr>\n    <tr>\n      <th>41</th>\n      <td>Natal</td>\n      <td>2018-05-20</td>\n      <td>835.0</td>\n      <td>852</td>\n      <td>4</td>\n      <td>3340.0</td>\n      <td>4.0</td>\n    </tr>\n    <tr>\n      <th>38</th>\n      <td>Natal</td>\n      <td>2018-02-25</td>\n      <td>828.0</td>\n      <td>852</td>\n      <td>4</td>\n      <td>3312.0</td>\n      <td>4.0</td>\n    </tr>\n    <tr>\n      <th>10</th>\n      <td>Natal</td>\n      <td>2018-10-27</td>\n      <td>828.0</td>\n      <td>852</td>\n      <td>4</td>\n      <td>3312.0</td>\n      <td>4.0</td>\n    </tr>\n    <tr>\n      <th>69</th>\n      <td>Natal</td>\n      <td>2019-03-24</td>\n      <td>817.0</td>\n      <td>852</td>\n      <td>4</td>\n      <td>3268.0</td>\n      <td>4.0</td>\n    </tr>\n    <tr>\n      <th>62</th>\n      <td>Natal</td>\n      <td>2018-02-10</td>\n      <td>793.0</td>\n      <td>854</td>\n      <td>4</td>\n      <td>3172.0</td>\n      <td>4.0</td>\n    </tr>\n    <tr>\n      <th>52</th>\n      <td>Natal</td>\n      <td>2018-04-27</td>\n      <td>778.0</td>\n      <td>854</td>\n      <td>4</td>\n      <td>3112.0</td>\n      <td>4.0</td>\n    </tr>\n  </tbody>\n</table>\n</div>"
     },
     "execution_count": 31,
     "metadata": {},
     "output_type": "execute_result"
    }
   ]
  },
  {
   "cell_type": "markdown",
   "metadata": {
    "id": "6cA7C78N6sV2",
    "colab_type": "text"
   },
   "source": [
    "#**Trabalhando com datas**"
   ]
  },
  {
   "cell_type": "code",
   "metadata": {
    "id": "bRaEoWjR6deI",
    "colab_type": "code",
    "colab": {}
   },
   "source": [
    "#Trasnformando a coluna de data em tipo inteiro\n",
    "df[\"Data\"] = df[\"Data\"].astype(\"int64\")"
   ],
   "execution_count": 32,
   "outputs": []
  },
  {
   "cell_type": "code",
   "metadata": {
    "id": "dz5kfhncHi7Y",
    "colab_type": "code",
    "outputId": "275eb110-54a8-450e-b8c6-165961d670b7",
    "colab": {
     "base_uri": "https://localhost:8080/",
     "height": 153
    }
   },
   "source": [
    "#Verificando o tipo de dado de cada coluna\n",
    "df.dtypes"
   ],
   "execution_count": 33,
   "outputs": [
    {
     "data": {
      "text/plain": "Cidade             object\nData                int64\nVendas            float64\nLojaID             object\nQtde                int64\nReceita           float64\nReceita/Vendas    float64\ndtype: object"
     },
     "execution_count": 33,
     "metadata": {},
     "output_type": "execute_result"
    }
   ]
  },
  {
   "cell_type": "code",
   "metadata": {
    "id": "oQhrdhlyHkED",
    "colab_type": "code",
    "colab": {}
   },
   "source": [
    "#Transformando coluna de data em data\n",
    "df[\"Data\"] = pd.to_datetime(df[\"Data\"])"
   ],
   "execution_count": 34,
   "outputs": []
  },
  {
   "cell_type": "code",
   "metadata": {
    "id": "F5zeaq6tH1P0",
    "colab_type": "code",
    "outputId": "5b8043b2-c63b-4322-df5a-dd41737591c6",
    "colab": {
     "base_uri": "https://localhost:8080/",
     "height": 153
    }
   },
   "source": [
    "df.dtypes"
   ],
   "execution_count": 35,
   "outputs": [
    {
     "data": {
      "text/plain": "Cidade                    object\nData              datetime64[ns]\nVendas                   float64\nLojaID                    object\nQtde                       int64\nReceita                  float64\nReceita/Vendas           float64\ndtype: object"
     },
     "execution_count": 35,
     "metadata": {},
     "output_type": "execute_result"
    }
   ]
  },
  {
   "cell_type": "code",
   "metadata": {
    "id": "c027o0jyH2qg",
    "colab_type": "code",
    "outputId": "4db1851a-4712-44b6-f297-ec2c16d61f67",
    "colab": {
     "base_uri": "https://localhost:8080/",
     "height": 85
    }
   },
   "source": [
    "#Agrupamento por ano\n",
    "df.groupby(df[\"Data\"].dt.year)[\"Receita\"].sum()"
   ],
   "execution_count": 36,
   "outputs": [
    {
     "data": {
      "text/plain": "Data\n2018    118176.53\n2019    228246.45\nName: Receita, dtype: float64"
     },
     "execution_count": 36,
     "metadata": {},
     "output_type": "execute_result"
    }
   ]
  },
  {
   "cell_type": "code",
   "metadata": {
    "id": "kX_HYKgQIEPD",
    "colab_type": "code",
    "colab": {}
   },
   "source": [
    "#Criando uma nova coluna com o ano\n",
    "df[\"Ano_Venda\"] = df[\"Data\"].dt.year"
   ],
   "execution_count": 37,
   "outputs": []
  },
  {
   "cell_type": "code",
   "metadata": {
    "id": "MJjiTggaISUi",
    "colab_type": "code",
    "outputId": "664952a0-57c6-4f6d-ad6f-03a5d846d557",
    "colab": {
     "base_uri": "https://localhost:8080/",
     "height": 204
    }
   },
   "source": [
    "df.sample(5)"
   ],
   "execution_count": 38,
   "outputs": [
    {
     "data": {
      "text/plain": "       Cidade       Data  Vendas LojaID  Qtde  Receita  Receita/Vendas  \\\n119     Natal 2019-01-02  136.37   1034     2   272.74             2.0   \n112     Natal 2019-01-02   43.00   1036     3   129.00             3.0   \n57      Natal 2019-02-24  425.00    854     4  1700.00             4.0   \n81      Natal 2019-04-02  564.00    854     2  1128.00             2.0   \n93   Salvador 2019-01-01   15.58   1037     1    15.58             1.0   \n\n     Ano_Venda  \n119       2019  \n112       2019  \n57        2019  \n81        2019  \n93        2019  ",
      "text/html": "<div>\n<style scoped>\n    .dataframe tbody tr th:only-of-type {\n        vertical-align: middle;\n    }\n\n    .dataframe tbody tr th {\n        vertical-align: top;\n    }\n\n    .dataframe thead th {\n        text-align: right;\n    }\n</style>\n<table border=\"1\" class=\"dataframe\">\n  <thead>\n    <tr style=\"text-align: right;\">\n      <th></th>\n      <th>Cidade</th>\n      <th>Data</th>\n      <th>Vendas</th>\n      <th>LojaID</th>\n      <th>Qtde</th>\n      <th>Receita</th>\n      <th>Receita/Vendas</th>\n      <th>Ano_Venda</th>\n    </tr>\n  </thead>\n  <tbody>\n    <tr>\n      <th>119</th>\n      <td>Natal</td>\n      <td>2019-01-02</td>\n      <td>136.37</td>\n      <td>1034</td>\n      <td>2</td>\n      <td>272.74</td>\n      <td>2.0</td>\n      <td>2019</td>\n    </tr>\n    <tr>\n      <th>112</th>\n      <td>Natal</td>\n      <td>2019-01-02</td>\n      <td>43.00</td>\n      <td>1036</td>\n      <td>3</td>\n      <td>129.00</td>\n      <td>3.0</td>\n      <td>2019</td>\n    </tr>\n    <tr>\n      <th>57</th>\n      <td>Natal</td>\n      <td>2019-02-24</td>\n      <td>425.00</td>\n      <td>854</td>\n      <td>4</td>\n      <td>1700.00</td>\n      <td>4.0</td>\n      <td>2019</td>\n    </tr>\n    <tr>\n      <th>81</th>\n      <td>Natal</td>\n      <td>2019-04-02</td>\n      <td>564.00</td>\n      <td>854</td>\n      <td>2</td>\n      <td>1128.00</td>\n      <td>2.0</td>\n      <td>2019</td>\n    </tr>\n    <tr>\n      <th>93</th>\n      <td>Salvador</td>\n      <td>2019-01-01</td>\n      <td>15.58</td>\n      <td>1037</td>\n      <td>1</td>\n      <td>15.58</td>\n      <td>1.0</td>\n      <td>2019</td>\n    </tr>\n  </tbody>\n</table>\n</div>"
     },
     "execution_count": 38,
     "metadata": {},
     "output_type": "execute_result"
    }
   ]
  },
  {
   "cell_type": "code",
   "metadata": {
    "id": "QPNcE_6rIT6F",
    "colab_type": "code",
    "colab": {}
   },
   "source": [
    "#Extraindo o mês e o dia\n",
    "df[\"mes_venda\"], df[\"dia_venda\"] = (df[\"Data\"].dt.month, df[\"Data\"].dt.day)"
   ],
   "execution_count": 39,
   "outputs": []
  },
  {
   "cell_type": "code",
   "metadata": {
    "id": "9AOp3NNfIrah",
    "colab_type": "code",
    "outputId": "be23b592-06ec-4eab-88f0-46da74f85544",
    "colab": {
     "base_uri": "https://localhost:8080/",
     "height": 204
    }
   },
   "source": [
    "df.sample(5)"
   ],
   "execution_count": 40,
   "outputs": [
    {
     "data": {
      "text/plain": "        Cidade       Data  Vendas LojaID  Qtde  Receita  Receita/Vendas  \\\n214   Salvador 2019-01-02   54.94   1036     2   109.88             2.0   \n53       Natal 2019-02-14  290.00    854     4  1160.00             4.0   \n45    Salvador 2019-01-01  175.25   1035     3   525.75             3.0   \n29   Fortaleza 2019-01-01  186.29   1005     2   372.58             2.0   \n69    Salvador 2019-01-01   14.79   1035     1    14.79             1.0   \n\n     Ano_Venda  mes_venda  dia_venda  \n214       2019          1          2  \n53        2019          2         14  \n45        2019          1          1  \n29        2019          1          1  \n69        2019          1          1  ",
      "text/html": "<div>\n<style scoped>\n    .dataframe tbody tr th:only-of-type {\n        vertical-align: middle;\n    }\n\n    .dataframe tbody tr th {\n        vertical-align: top;\n    }\n\n    .dataframe thead th {\n        text-align: right;\n    }\n</style>\n<table border=\"1\" class=\"dataframe\">\n  <thead>\n    <tr style=\"text-align: right;\">\n      <th></th>\n      <th>Cidade</th>\n      <th>Data</th>\n      <th>Vendas</th>\n      <th>LojaID</th>\n      <th>Qtde</th>\n      <th>Receita</th>\n      <th>Receita/Vendas</th>\n      <th>Ano_Venda</th>\n      <th>mes_venda</th>\n      <th>dia_venda</th>\n    </tr>\n  </thead>\n  <tbody>\n    <tr>\n      <th>214</th>\n      <td>Salvador</td>\n      <td>2019-01-02</td>\n      <td>54.94</td>\n      <td>1036</td>\n      <td>2</td>\n      <td>109.88</td>\n      <td>2.0</td>\n      <td>2019</td>\n      <td>1</td>\n      <td>2</td>\n    </tr>\n    <tr>\n      <th>53</th>\n      <td>Natal</td>\n      <td>2019-02-14</td>\n      <td>290.00</td>\n      <td>854</td>\n      <td>4</td>\n      <td>1160.00</td>\n      <td>4.0</td>\n      <td>2019</td>\n      <td>2</td>\n      <td>14</td>\n    </tr>\n    <tr>\n      <th>45</th>\n      <td>Salvador</td>\n      <td>2019-01-01</td>\n      <td>175.25</td>\n      <td>1035</td>\n      <td>3</td>\n      <td>525.75</td>\n      <td>3.0</td>\n      <td>2019</td>\n      <td>1</td>\n      <td>1</td>\n    </tr>\n    <tr>\n      <th>29</th>\n      <td>Fortaleza</td>\n      <td>2019-01-01</td>\n      <td>186.29</td>\n      <td>1005</td>\n      <td>2</td>\n      <td>372.58</td>\n      <td>2.0</td>\n      <td>2019</td>\n      <td>1</td>\n      <td>1</td>\n    </tr>\n    <tr>\n      <th>69</th>\n      <td>Salvador</td>\n      <td>2019-01-01</td>\n      <td>14.79</td>\n      <td>1035</td>\n      <td>1</td>\n      <td>14.79</td>\n      <td>1.0</td>\n      <td>2019</td>\n      <td>1</td>\n      <td>1</td>\n    </tr>\n  </tbody>\n</table>\n</div>"
     },
     "execution_count": 40,
     "metadata": {},
     "output_type": "execute_result"
    }
   ]
  },
  {
   "cell_type": "code",
   "metadata": {
    "id": "r0la0X6aIuTR",
    "colab_type": "code",
    "outputId": "bd244f1b-6e69-4991-c290-f071af4e0d60",
    "colab": {
     "base_uri": "https://localhost:8080/",
     "height": 34
    }
   },
   "source": [
    "#Retornando a data mais antiga\n",
    "df[\"Data\"].min()"
   ],
   "execution_count": 41,
   "outputs": [
    {
     "data": {
      "text/plain": "Timestamp('2018-01-01 00:00:00')"
     },
     "execution_count": 41,
     "metadata": {},
     "output_type": "execute_result"
    }
   ]
  },
  {
   "cell_type": "code",
   "metadata": {
    "id": "7fxtFDflI7L0",
    "colab_type": "code",
    "colab": {}
   },
   "source": [
    "#Calculando a diferença de dias\n",
    "df[\"diferenca_dias\"] = df[\"Data\"] - df[\"Data\"].min()"
   ],
   "execution_count": 42,
   "outputs": []
  },
  {
   "cell_type": "code",
   "metadata": {
    "id": "997DVEidJKNG",
    "colab_type": "code",
    "outputId": "3cdb03c2-cb8d-4891-b10b-27474beb1806",
    "colab": {
     "base_uri": "https://localhost:8080/",
     "height": 204
    }
   },
   "source": [
    "df.sample(5)"
   ],
   "execution_count": 43,
   "outputs": [
    {
     "data": {
      "text/plain": "        Cidade       Data  Vendas LojaID  Qtde  Receita  Receita/Vendas  \\\n39   Fortaleza 2019-01-01  176.51   1005     1   176.51             1.0   \n93    Salvador 2019-01-01   15.58   1037     1    15.58             1.0   \n106     Recife 2019-01-01   30.46    982     3    91.38             3.0   \n126      Natal 2019-01-02   41.69   1036     2    83.38             2.0   \n58     Aracaju 2018-01-01   37.14   1520     7   259.98             7.0   \n\n     Ano_Venda  mes_venda  dia_venda diferenca_dias  \n39        2019          1          1       365 days  \n93        2019          1          1       365 days  \n106       2019          1          1       365 days  \n126       2019          1          2       366 days  \n58        2018          1          1         0 days  ",
      "text/html": "<div>\n<style scoped>\n    .dataframe tbody tr th:only-of-type {\n        vertical-align: middle;\n    }\n\n    .dataframe tbody tr th {\n        vertical-align: top;\n    }\n\n    .dataframe thead th {\n        text-align: right;\n    }\n</style>\n<table border=\"1\" class=\"dataframe\">\n  <thead>\n    <tr style=\"text-align: right;\">\n      <th></th>\n      <th>Cidade</th>\n      <th>Data</th>\n      <th>Vendas</th>\n      <th>LojaID</th>\n      <th>Qtde</th>\n      <th>Receita</th>\n      <th>Receita/Vendas</th>\n      <th>Ano_Venda</th>\n      <th>mes_venda</th>\n      <th>dia_venda</th>\n      <th>diferenca_dias</th>\n    </tr>\n  </thead>\n  <tbody>\n    <tr>\n      <th>39</th>\n      <td>Fortaleza</td>\n      <td>2019-01-01</td>\n      <td>176.51</td>\n      <td>1005</td>\n      <td>1</td>\n      <td>176.51</td>\n      <td>1.0</td>\n      <td>2019</td>\n      <td>1</td>\n      <td>1</td>\n      <td>365 days</td>\n    </tr>\n    <tr>\n      <th>93</th>\n      <td>Salvador</td>\n      <td>2019-01-01</td>\n      <td>15.58</td>\n      <td>1037</td>\n      <td>1</td>\n      <td>15.58</td>\n      <td>1.0</td>\n      <td>2019</td>\n      <td>1</td>\n      <td>1</td>\n      <td>365 days</td>\n    </tr>\n    <tr>\n      <th>106</th>\n      <td>Recife</td>\n      <td>2019-01-01</td>\n      <td>30.46</td>\n      <td>982</td>\n      <td>3</td>\n      <td>91.38</td>\n      <td>3.0</td>\n      <td>2019</td>\n      <td>1</td>\n      <td>1</td>\n      <td>365 days</td>\n    </tr>\n    <tr>\n      <th>126</th>\n      <td>Natal</td>\n      <td>2019-01-02</td>\n      <td>41.69</td>\n      <td>1036</td>\n      <td>2</td>\n      <td>83.38</td>\n      <td>2.0</td>\n      <td>2019</td>\n      <td>1</td>\n      <td>2</td>\n      <td>366 days</td>\n    </tr>\n    <tr>\n      <th>58</th>\n      <td>Aracaju</td>\n      <td>2018-01-01</td>\n      <td>37.14</td>\n      <td>1520</td>\n      <td>7</td>\n      <td>259.98</td>\n      <td>7.0</td>\n      <td>2018</td>\n      <td>1</td>\n      <td>1</td>\n      <td>0 days</td>\n    </tr>\n  </tbody>\n</table>\n</div>"
     },
     "execution_count": 43,
     "metadata": {},
     "output_type": "execute_result"
    }
   ]
  },
  {
   "cell_type": "code",
   "metadata": {
    "id": "KHAOU_EuJLkb",
    "colab_type": "code",
    "colab": {}
   },
   "source": [
    "#Criando a coluna de trimestre\n",
    "df[\"trimestre_venda\"] = df[\"Data\"].dt.quarter"
   ],
   "execution_count": 44,
   "outputs": []
  },
  {
   "cell_type": "code",
   "metadata": {
    "id": "OWZos9y5JbDQ",
    "colab_type": "code",
    "outputId": "79806c1f-ed51-4705-d0b9-cbb2659f5844",
    "colab": {
     "base_uri": "https://localhost:8080/",
     "height": 204
    }
   },
   "source": [
    "df.sample(5)"
   ],
   "execution_count": 45,
   "outputs": [
    {
     "data": {
      "text/plain": "        Cidade       Data  Vendas LojaID  Qtde  Receita  Receita/Vendas  \\\n78   Fortaleza 2019-01-01   37.66   1005     2    75.32             2.0   \n4       Recife 2019-02-14   19.89    983     7   139.23             7.0   \n180   Salvador 2019-01-02  116.63   1035     2   233.26             2.0   \n236   Salvador 2019-01-03  126.29   1035     3   378.87             3.0   \n104     Recife 2019-01-01   40.11    983     5   200.55             5.0   \n\n     Ano_Venda  mes_venda  dia_venda diferenca_dias  trimestre_venda  \n78        2019          1          1       365 days                1  \n4         2019          2         14       409 days                1  \n180       2019          1          2       366 days                1  \n236       2019          1          3       367 days                1  \n104       2019          1          1       365 days                1  ",
      "text/html": "<div>\n<style scoped>\n    .dataframe tbody tr th:only-of-type {\n        vertical-align: middle;\n    }\n\n    .dataframe tbody tr th {\n        vertical-align: top;\n    }\n\n    .dataframe thead th {\n        text-align: right;\n    }\n</style>\n<table border=\"1\" class=\"dataframe\">\n  <thead>\n    <tr style=\"text-align: right;\">\n      <th></th>\n      <th>Cidade</th>\n      <th>Data</th>\n      <th>Vendas</th>\n      <th>LojaID</th>\n      <th>Qtde</th>\n      <th>Receita</th>\n      <th>Receita/Vendas</th>\n      <th>Ano_Venda</th>\n      <th>mes_venda</th>\n      <th>dia_venda</th>\n      <th>diferenca_dias</th>\n      <th>trimestre_venda</th>\n    </tr>\n  </thead>\n  <tbody>\n    <tr>\n      <th>78</th>\n      <td>Fortaleza</td>\n      <td>2019-01-01</td>\n      <td>37.66</td>\n      <td>1005</td>\n      <td>2</td>\n      <td>75.32</td>\n      <td>2.0</td>\n      <td>2019</td>\n      <td>1</td>\n      <td>1</td>\n      <td>365 days</td>\n      <td>1</td>\n    </tr>\n    <tr>\n      <th>4</th>\n      <td>Recife</td>\n      <td>2019-02-14</td>\n      <td>19.89</td>\n      <td>983</td>\n      <td>7</td>\n      <td>139.23</td>\n      <td>7.0</td>\n      <td>2019</td>\n      <td>2</td>\n      <td>14</td>\n      <td>409 days</td>\n      <td>1</td>\n    </tr>\n    <tr>\n      <th>180</th>\n      <td>Salvador</td>\n      <td>2019-01-02</td>\n      <td>116.63</td>\n      <td>1035</td>\n      <td>2</td>\n      <td>233.26</td>\n      <td>2.0</td>\n      <td>2019</td>\n      <td>1</td>\n      <td>2</td>\n      <td>366 days</td>\n      <td>1</td>\n    </tr>\n    <tr>\n      <th>236</th>\n      <td>Salvador</td>\n      <td>2019-01-03</td>\n      <td>126.29</td>\n      <td>1035</td>\n      <td>3</td>\n      <td>378.87</td>\n      <td>3.0</td>\n      <td>2019</td>\n      <td>1</td>\n      <td>3</td>\n      <td>367 days</td>\n      <td>1</td>\n    </tr>\n    <tr>\n      <th>104</th>\n      <td>Recife</td>\n      <td>2019-01-01</td>\n      <td>40.11</td>\n      <td>983</td>\n      <td>5</td>\n      <td>200.55</td>\n      <td>5.0</td>\n      <td>2019</td>\n      <td>1</td>\n      <td>1</td>\n      <td>365 days</td>\n      <td>1</td>\n    </tr>\n  </tbody>\n</table>\n</div>"
     },
     "execution_count": 45,
     "metadata": {},
     "output_type": "execute_result"
    }
   ]
  },
  {
   "cell_type": "code",
   "metadata": {
    "id": "ie2WTtU5Jc-G",
    "colab_type": "code",
    "colab": {}
   },
   "source": [
    "#Filtrando as vendas de 2019 do mês de março\n",
    "vendas_marco_19 = df.loc[(df[\"Data\"].dt.year == 2019) & (df[\"Data\"].dt.month == 3)]"
   ],
   "execution_count": 46,
   "outputs": []
  },
  {
   "cell_type": "code",
   "metadata": {
    "id": "4x6GgzC9KB_e",
    "colab_type": "code",
    "outputId": "c65a0365-31d1-4876-96a9-803c355a4bed",
    "colab": {
     "base_uri": "https://localhost:8080/",
     "height": 669
    }
   },
   "source": [
    "vendas_marco_19.sample(20)"
   ],
   "execution_count": 47,
   "outputs": [
    {
     "data": {
      "text/plain": "        Cidade       Data  Vendas LojaID  Qtde  Receita  Receita/Vendas  \\\n117     Recife 2019-03-02   15.42    983     8   123.36             8.0   \n108   Salvador 2019-03-02   11.72   1037     1    11.72             1.0   \n119  Fortaleza 2019-03-02  152.30    982     7  1066.10             7.0   \n126  Fortaleza 2019-03-02   41.87    980     8   334.96             8.0   \n135  Fortaleza 2019-03-02   10.79    983     5    53.95             5.0   \n126   Salvador 2019-03-02   41.69   1036     2    83.38             2.0   \n127     Recife 2019-03-02   39.56    982     8   316.48             8.0   \n74       Natal 2019-03-10  303.00    854     3   909.00             3.0   \n134     Recife 2019-03-02  195.18    980     5   975.90             5.0   \n108  Fortaleza 2019-03-02  152.89    981     4   611.56             4.0   \n109   Salvador 2019-03-02  124.37   1035     1   124.37             1.0   \n120   Salvador 2019-03-02  140.17   1036     2   280.34             2.0   \n132     Recife 2019-03-02   17.49    983     5    87.45             5.0   \n141     Recife 2019-03-02  182.75    983     8  1462.00             8.0   \n116     Recife 2019-03-02   79.10    982     2   158.20             2.0   \n121  Fortaleza 2019-03-02   41.55    981     3   124.65             3.0   \n118     Recife 2019-03-02   17.70    981     5    88.50             5.0   \n139  Fortaleza 2019-03-02  141.16    980     7   988.12             7.0   \n113     Recife 2019-03-02   38.63    980     2    77.26             2.0   \n138   Salvador 2019-03-02  212.03   1037     3   636.09             3.0   \n\n     Ano_Venda  mes_venda  dia_venda diferenca_dias  trimestre_venda  \n117       2019          3          2       425 days                1  \n108       2019          3          2       425 days                1  \n119       2019          3          2       425 days                1  \n126       2019          3          2       425 days                1  \n135       2019          3          2       425 days                1  \n126       2019          3          2       425 days                1  \n127       2019          3          2       425 days                1  \n74        2019          3         10       433 days                1  \n134       2019          3          2       425 days                1  \n108       2019          3          2       425 days                1  \n109       2019          3          2       425 days                1  \n120       2019          3          2       425 days                1  \n132       2019          3          2       425 days                1  \n141       2019          3          2       425 days                1  \n116       2019          3          2       425 days                1  \n121       2019          3          2       425 days                1  \n118       2019          3          2       425 days                1  \n139       2019          3          2       425 days                1  \n113       2019          3          2       425 days                1  \n138       2019          3          2       425 days                1  ",
      "text/html": "<div>\n<style scoped>\n    .dataframe tbody tr th:only-of-type {\n        vertical-align: middle;\n    }\n\n    .dataframe tbody tr th {\n        vertical-align: top;\n    }\n\n    .dataframe thead th {\n        text-align: right;\n    }\n</style>\n<table border=\"1\" class=\"dataframe\">\n  <thead>\n    <tr style=\"text-align: right;\">\n      <th></th>\n      <th>Cidade</th>\n      <th>Data</th>\n      <th>Vendas</th>\n      <th>LojaID</th>\n      <th>Qtde</th>\n      <th>Receita</th>\n      <th>Receita/Vendas</th>\n      <th>Ano_Venda</th>\n      <th>mes_venda</th>\n      <th>dia_venda</th>\n      <th>diferenca_dias</th>\n      <th>trimestre_venda</th>\n    </tr>\n  </thead>\n  <tbody>\n    <tr>\n      <th>117</th>\n      <td>Recife</td>\n      <td>2019-03-02</td>\n      <td>15.42</td>\n      <td>983</td>\n      <td>8</td>\n      <td>123.36</td>\n      <td>8.0</td>\n      <td>2019</td>\n      <td>3</td>\n      <td>2</td>\n      <td>425 days</td>\n      <td>1</td>\n    </tr>\n    <tr>\n      <th>108</th>\n      <td>Salvador</td>\n      <td>2019-03-02</td>\n      <td>11.72</td>\n      <td>1037</td>\n      <td>1</td>\n      <td>11.72</td>\n      <td>1.0</td>\n      <td>2019</td>\n      <td>3</td>\n      <td>2</td>\n      <td>425 days</td>\n      <td>1</td>\n    </tr>\n    <tr>\n      <th>119</th>\n      <td>Fortaleza</td>\n      <td>2019-03-02</td>\n      <td>152.30</td>\n      <td>982</td>\n      <td>7</td>\n      <td>1066.10</td>\n      <td>7.0</td>\n      <td>2019</td>\n      <td>3</td>\n      <td>2</td>\n      <td>425 days</td>\n      <td>1</td>\n    </tr>\n    <tr>\n      <th>126</th>\n      <td>Fortaleza</td>\n      <td>2019-03-02</td>\n      <td>41.87</td>\n      <td>980</td>\n      <td>8</td>\n      <td>334.96</td>\n      <td>8.0</td>\n      <td>2019</td>\n      <td>3</td>\n      <td>2</td>\n      <td>425 days</td>\n      <td>1</td>\n    </tr>\n    <tr>\n      <th>135</th>\n      <td>Fortaleza</td>\n      <td>2019-03-02</td>\n      <td>10.79</td>\n      <td>983</td>\n      <td>5</td>\n      <td>53.95</td>\n      <td>5.0</td>\n      <td>2019</td>\n      <td>3</td>\n      <td>2</td>\n      <td>425 days</td>\n      <td>1</td>\n    </tr>\n    <tr>\n      <th>126</th>\n      <td>Salvador</td>\n      <td>2019-03-02</td>\n      <td>41.69</td>\n      <td>1036</td>\n      <td>2</td>\n      <td>83.38</td>\n      <td>2.0</td>\n      <td>2019</td>\n      <td>3</td>\n      <td>2</td>\n      <td>425 days</td>\n      <td>1</td>\n    </tr>\n    <tr>\n      <th>127</th>\n      <td>Recife</td>\n      <td>2019-03-02</td>\n      <td>39.56</td>\n      <td>982</td>\n      <td>8</td>\n      <td>316.48</td>\n      <td>8.0</td>\n      <td>2019</td>\n      <td>3</td>\n      <td>2</td>\n      <td>425 days</td>\n      <td>1</td>\n    </tr>\n    <tr>\n      <th>74</th>\n      <td>Natal</td>\n      <td>2019-03-10</td>\n      <td>303.00</td>\n      <td>854</td>\n      <td>3</td>\n      <td>909.00</td>\n      <td>3.0</td>\n      <td>2019</td>\n      <td>3</td>\n      <td>10</td>\n      <td>433 days</td>\n      <td>1</td>\n    </tr>\n    <tr>\n      <th>134</th>\n      <td>Recife</td>\n      <td>2019-03-02</td>\n      <td>195.18</td>\n      <td>980</td>\n      <td>5</td>\n      <td>975.90</td>\n      <td>5.0</td>\n      <td>2019</td>\n      <td>3</td>\n      <td>2</td>\n      <td>425 days</td>\n      <td>1</td>\n    </tr>\n    <tr>\n      <th>108</th>\n      <td>Fortaleza</td>\n      <td>2019-03-02</td>\n      <td>152.89</td>\n      <td>981</td>\n      <td>4</td>\n      <td>611.56</td>\n      <td>4.0</td>\n      <td>2019</td>\n      <td>3</td>\n      <td>2</td>\n      <td>425 days</td>\n      <td>1</td>\n    </tr>\n    <tr>\n      <th>109</th>\n      <td>Salvador</td>\n      <td>2019-03-02</td>\n      <td>124.37</td>\n      <td>1035</td>\n      <td>1</td>\n      <td>124.37</td>\n      <td>1.0</td>\n      <td>2019</td>\n      <td>3</td>\n      <td>2</td>\n      <td>425 days</td>\n      <td>1</td>\n    </tr>\n    <tr>\n      <th>120</th>\n      <td>Salvador</td>\n      <td>2019-03-02</td>\n      <td>140.17</td>\n      <td>1036</td>\n      <td>2</td>\n      <td>280.34</td>\n      <td>2.0</td>\n      <td>2019</td>\n      <td>3</td>\n      <td>2</td>\n      <td>425 days</td>\n      <td>1</td>\n    </tr>\n    <tr>\n      <th>132</th>\n      <td>Recife</td>\n      <td>2019-03-02</td>\n      <td>17.49</td>\n      <td>983</td>\n      <td>5</td>\n      <td>87.45</td>\n      <td>5.0</td>\n      <td>2019</td>\n      <td>3</td>\n      <td>2</td>\n      <td>425 days</td>\n      <td>1</td>\n    </tr>\n    <tr>\n      <th>141</th>\n      <td>Recife</td>\n      <td>2019-03-02</td>\n      <td>182.75</td>\n      <td>983</td>\n      <td>8</td>\n      <td>1462.00</td>\n      <td>8.0</td>\n      <td>2019</td>\n      <td>3</td>\n      <td>2</td>\n      <td>425 days</td>\n      <td>1</td>\n    </tr>\n    <tr>\n      <th>116</th>\n      <td>Recife</td>\n      <td>2019-03-02</td>\n      <td>79.10</td>\n      <td>982</td>\n      <td>2</td>\n      <td>158.20</td>\n      <td>2.0</td>\n      <td>2019</td>\n      <td>3</td>\n      <td>2</td>\n      <td>425 days</td>\n      <td>1</td>\n    </tr>\n    <tr>\n      <th>121</th>\n      <td>Fortaleza</td>\n      <td>2019-03-02</td>\n      <td>41.55</td>\n      <td>981</td>\n      <td>3</td>\n      <td>124.65</td>\n      <td>3.0</td>\n      <td>2019</td>\n      <td>3</td>\n      <td>2</td>\n      <td>425 days</td>\n      <td>1</td>\n    </tr>\n    <tr>\n      <th>118</th>\n      <td>Recife</td>\n      <td>2019-03-02</td>\n      <td>17.70</td>\n      <td>981</td>\n      <td>5</td>\n      <td>88.50</td>\n      <td>5.0</td>\n      <td>2019</td>\n      <td>3</td>\n      <td>2</td>\n      <td>425 days</td>\n      <td>1</td>\n    </tr>\n    <tr>\n      <th>139</th>\n      <td>Fortaleza</td>\n      <td>2019-03-02</td>\n      <td>141.16</td>\n      <td>980</td>\n      <td>7</td>\n      <td>988.12</td>\n      <td>7.0</td>\n      <td>2019</td>\n      <td>3</td>\n      <td>2</td>\n      <td>425 days</td>\n      <td>1</td>\n    </tr>\n    <tr>\n      <th>113</th>\n      <td>Recife</td>\n      <td>2019-03-02</td>\n      <td>38.63</td>\n      <td>980</td>\n      <td>2</td>\n      <td>77.26</td>\n      <td>2.0</td>\n      <td>2019</td>\n      <td>3</td>\n      <td>2</td>\n      <td>425 days</td>\n      <td>1</td>\n    </tr>\n    <tr>\n      <th>138</th>\n      <td>Salvador</td>\n      <td>2019-03-02</td>\n      <td>212.03</td>\n      <td>1037</td>\n      <td>3</td>\n      <td>636.09</td>\n      <td>3.0</td>\n      <td>2019</td>\n      <td>3</td>\n      <td>2</td>\n      <td>425 days</td>\n      <td>1</td>\n    </tr>\n  </tbody>\n</table>\n</div>"
     },
     "execution_count": 47,
     "metadata": {},
     "output_type": "execute_result"
    }
   ]
  },
  {
   "cell_type": "markdown",
   "metadata": {
    "id": "G2RavTidRF8A",
    "colab_type": "text"
   },
   "source": [
    "#**Visualização de dados**"
   ]
  },
  {
   "cell_type": "code",
   "metadata": {
    "id": "JmZ6dy1xKEtC",
    "colab_type": "code",
    "colab": {
     "base_uri": "https://localhost:8080/",
     "height": 357
    },
    "outputId": "fcc0d3fd-32a1-4059-c89f-d14c033842ea"
   },
   "source": [
    "df[\"LojaID\"].value_counts(ascending=False)"
   ],
   "execution_count": 48,
   "outputs": [
    {
     "data": {
      "text/plain": "1036    117\n1035    112\n1037    101\n1034     67\n983      65\n982      44\n1522     41\n1520     39\n980      36\n981      31\n1005     30\n1002     30\n1523     29\n852      29\n1004     28\n854      28\n853      26\n1521     21\n1003     20\nName: LojaID, dtype: int64"
     },
     "execution_count": 48,
     "metadata": {},
     "output_type": "execute_result"
    }
   ]
  },
  {
   "cell_type": "code",
   "metadata": {
    "id": "LCh4ANjpRDiU",
    "colab_type": "code",
    "colab": {
     "base_uri": "https://localhost:8080/",
     "height": 468
    },
    "outputId": "4d5393d3-98ee-4067-8a2c-22a0b85975c0"
   },
   "source": [
    "#Gráfico de barras\n",
    "df[\"LojaID\"].value_counts(ascending=False).plot.bar()"
   ],
   "execution_count": 49,
   "outputs": [
    {
     "data": {
      "text/plain": "<AxesSubplot:>"
     },
     "execution_count": 49,
     "metadata": {},
     "output_type": "execute_result"
    },
    {
     "data": {
      "text/plain": "<Figure size 432x288 with 1 Axes>",
      "image/png": "[encoded data removed]"
     },
     "metadata": {
      "needs_background": "light"
     },
     "output_type": "display_data"
    }
   ]
  },
  {
   "cell_type": "code",
   "metadata": {
    "id": "hMiNsqBKR3K2",
    "colab_type": "code",
    "colab": {
     "base_uri": "https://localhost:8080/",
     "height": 447
    },
    "outputId": "f57f2b15-b9b2-436d-fbee-51cd724abe5f"
   },
   "source": [
    "#Gráfico de barras horizontais\n",
    "df[\"LojaID\"].value_counts().plot.barh()"
   ],
   "execution_count": 50,
   "outputs": [
    {
     "data": {
      "text/plain": "<AxesSubplot:>"
     },
     "execution_count": 50,
     "metadata": {},
     "output_type": "execute_result"
    },
    {
     "data": {
      "text/plain": "<Figure size 432x288 with 1 Axes>",
      "image/png": "[encoded data removed]"
     },
     "metadata": {
      "needs_background": "light"
     },
     "output_type": "display_data"
    }
   ]
  },
  {
   "cell_type": "code",
   "metadata": {
    "id": "rg7ehfpzSE2W",
    "colab_type": "code",
    "colab": {
     "base_uri": "https://localhost:8080/",
     "height": 430
    },
    "outputId": "8f9170af-f986-4188-da92-5d4cef66e860"
   },
   "source": [
    "#Gráfico de barras horizontais\n",
    "df[\"LojaID\"].value_counts(ascending=True).plot.barh();"
   ],
   "execution_count": 51,
   "outputs": [
    {
     "data": {
      "text/plain": "<Figure size 432x288 with 1 Axes>",
      "image/png": "[encoded data removed]"
     },
     "metadata": {
      "needs_background": "light"
     },
     "output_type": "display_data"
    }
   ]
  },
  {
   "cell_type": "code",
   "metadata": {
    "id": "pJ0gpi2_SKrh",
    "colab_type": "code",
    "colab": {
     "base_uri": "https://localhost:8080/",
     "height": 423
    },
    "outputId": "99f08166-8040-4e6b-8370-5e0853fb9b80"
   },
   "source": [
    "#Gráfico de Pizza\n",
    "df.groupby(df[\"Data\"].dt.year)[\"Receita\"].sum().plot.pie()"
   ],
   "execution_count": 52,
   "outputs": [
    {
     "data": {
      "text/plain": "<AxesSubplot:ylabel='Receita'>"
     },
     "execution_count": 52,
     "metadata": {},
     "output_type": "execute_result"
    },
    {
     "data": {
      "text/plain": "<Figure size 432x288 with 1 Axes>",
      "image/png": "[encoded data removed]"
     },
     "metadata": {},
     "output_type": "display_data"
    }
   ]
  },
  {
   "cell_type": "code",
   "metadata": {
    "id": "2y-7DsTsTSMV",
    "colab_type": "code",
    "colab": {
     "base_uri": "https://localhost:8080/",
     "height": 119
    },
    "outputId": "416e4eee-3d9f-4470-cd20-5d4e131716b2"
   },
   "source": [
    "#Total vendas por cidade\n",
    "df[\"Cidade\"].value_counts()"
   ],
   "execution_count": 53,
   "outputs": [
    {
     "data": {
      "text/plain": "Salvador     240\nNatal        240\nRecife       142\nFortaleza    142\nAracaju      130\nName: Cidade, dtype: int64"
     },
     "execution_count": 53,
     "metadata": {},
     "output_type": "execute_result"
    }
   ]
  },
  {
   "cell_type": "code",
   "metadata": {
    "id": "6IWtDupKSmDn",
    "colab_type": "code",
    "colab": {
     "base_uri": "https://localhost:8080/",
     "height": 522
    },
    "outputId": "ee683895-a27a-4032-df49-224b7e338b3f"
   },
   "source": [
    "#Adicionando um título e alterando o nome dos eixos\n",
    "import matplotlib.pyplot as plt\n",
    "df[\"Cidade\"].value_counts().plot.bar(title=\"Total vendas por Cidade\")\n",
    "plt.xlabel(\"Cidade\")\n",
    "plt.ylabel(\"Total Vendas\");"
   ],
   "execution_count": 54,
   "outputs": [
    {
     "data": {
      "text/plain": "<Figure size 432x288 with 1 Axes>",
      "image/png": "[encoded data removed]"
     },
     "metadata": {
      "needs_background": "light"
     },
     "output_type": "display_data"
    }
   ]
  },
  {
   "cell_type": "code",
   "metadata": {
    "id": "Gtp8f-8wTK82",
    "colab_type": "code",
    "colab": {
     "base_uri": "https://localhost:8080/",
     "height": 522
    },
    "outputId": "8cc99270-325b-4ee0-a0e1-2edbf11202a7"
   },
   "source": [
    "#Alterando a cor\n",
    "df[\"Cidade\"].value_counts().plot.bar(title=\"Total vendas por Cidade\", color=\"red\")\n",
    "plt.xlabel(\"Cidade\")\n",
    "plt.ylabel(\"Total Vendas\");"
   ],
   "execution_count": 55,
   "outputs": [
    {
     "data": {
      "text/plain": "<Figure size 432x288 with 1 Axes>",
      "image/png": "[encoded data removed]"
     },
     "metadata": {
      "needs_background": "light"
     },
     "output_type": "display_data"
    }
   ]
  },
  {
   "cell_type": "code",
   "metadata": {
    "id": "7ee4w2uHVBHJ",
    "colab_type": "code",
    "colab": {}
   },
   "source": [
    "#Alterando o estilo\n",
    "plt.style.use(\"ggplot\")"
   ],
   "execution_count": 56,
   "outputs": []
  },
  {
   "cell_type": "code",
   "metadata": {
    "id": "QhimePNYVRnR",
    "colab_type": "code",
    "colab": {
     "base_uri": "https://localhost:8080/",
     "height": 477
    },
    "outputId": "b9c36ccc-d7a9-4510-f29f-95a981d88d24"
   },
   "source": [
    "df.groupby(df[\"mes_venda\"])[\"Qtde\"].sum().plot(title = \"Total Produtos vendidos x mês\")\n",
    "plt.xlabel(\"Mês\")\n",
    "plt.ylabel(\"Total Produtos Vendidos\")\n",
    "plt.legend();"
   ],
   "execution_count": 57,
   "outputs": [
    {
     "data": {
      "text/plain": "<Figure size 432x288 with 1 Axes>",
      "image/png": "[encoded data removed]"
     },
     "metadata": {},
     "output_type": "display_data"
    }
   ]
  },
  {
   "cell_type": "code",
   "metadata": {
    "id": "N8-WMDAZVj5P",
    "colab_type": "code",
    "colab": {
     "base_uri": "https://localhost:8080/",
     "height": 255
    },
    "outputId": "5d0f1192-6ef7-4268-9a7a-ec8f295ea6f3"
   },
   "source": [
    "df.groupby(df[\"mes_venda\"])[\"Qtde\"].sum()"
   ],
   "execution_count": 58,
   "outputs": [
    {
     "data": {
      "text/plain": "mes_venda\n1     2208\n2      144\n3      467\n4       23\n5       17\n6       13\n7       13\n8        2\n9       10\n10      14\n11       2\n12       3\nName: Qtde, dtype: int64"
     },
     "execution_count": 58,
     "metadata": {},
     "output_type": "execute_result"
    }
   ]
  },
  {
   "cell_type": "code",
   "metadata": {
    "id": "FwhIPO6DVoRD",
    "colab_type": "code",
    "colab": {}
   },
   "source": [
    "df_2019 = df[df[\"Ano_Venda\"] == 2019]"
   ],
   "execution_count": 59,
   "outputs": []
  },
  {
   "cell_type": "code",
   "metadata": {
    "id": "Pd33t7PKj360",
    "colab_type": "code",
    "colab": {
     "base_uri": "https://localhost:8080/",
     "height": 119
    },
    "outputId": "27497ff8-f68d-4278-b7a1-e6333d773283"
   },
   "source": [
    "df_2019.groupby(df_2019[\"mes_venda\"])[\"Qtde\"].sum()"
   ],
   "execution_count": 60,
   "outputs": [
    {
     "data": {
      "text/plain": "mes_venda\n1    1541\n2     128\n3     460\n4      12\nName: Qtde, dtype: int64"
     },
     "execution_count": 60,
     "metadata": {},
     "output_type": "execute_result"
    }
   ]
  },
  {
   "cell_type": "code",
   "metadata": {
    "id": "7wdwXD2RX9Qo",
    "colab_type": "code",
    "colab": {
     "base_uri": "https://localhost:8080/",
     "height": 455
    },
    "outputId": "8512105b-ae83-434b-89f4-da12f3e52a2d"
   },
   "source": [
    "df_2019.groupby(df_2019[\"mes_venda\"])[\"Qtde\"].sum().plot(marker = \"o\")\n",
    "plt.xlabel(\"Mês\")\n",
    "plt.ylabel(\"Total Produtos Vendidos\")\n",
    "plt.legend();"
   ],
   "execution_count": 61,
   "outputs": [
    {
     "data": {
      "text/plain": "<Figure size 432x288 with 1 Axes>",
      "image/png": "[encoded data removed]"
     },
     "metadata": {},
     "output_type": "display_data"
    }
   ]
  },
  {
   "cell_type": "code",
   "metadata": {
    "id": "AHLzBwDpY4he",
    "colab_type": "code",
    "colab": {
     "base_uri": "https://localhost:8080/",
     "height": 430
    },
    "outputId": "3a74b228-183a-4dde-dab1-f709419621be"
   },
   "source": [
    "plt.hist(df[\"Qtde\"], color=\"orangered\");"
   ],
   "execution_count": 62,
   "outputs": [
    {
     "data": {
      "text/plain": "<Figure size 432x288 with 1 Axes>",
      "image/png": "[encoded data removed]"
     },
     "metadata": {},
     "output_type": "display_data"
    }
   ]
  },
  {
   "cell_type": "code",
   "metadata": {
    "id": "bmET28xDacQb",
    "colab_type": "code",
    "colab": {
     "base_uri": "https://localhost:8080/",
     "height": 430
    },
    "outputId": "8e7cd981-3d01-44b5-895b-16b27f431b8a"
   },
   "source": [
    "plt.scatter(x=df_2019[\"dia_venda\"], y = df_2019[\"Receita\"]);"
   ],
   "execution_count": 63,
   "outputs": [
    {
     "data": {
      "text/plain": "<Figure size 432x288 with 1 Axes>",
      "image/png": "[encoded data removed]"
     },
     "metadata": {},
     "output_type": "display_data"
    }
   ]
  },
  {
   "cell_type": "code",
   "metadata": {
    "id": "1tFrsehWc7IN",
    "colab_type": "code",
    "colab": {
     "base_uri": "https://localhost:8080/",
     "height": 478
    },
    "outputId": "b185e26f-1aa4-4d09-f2aa-e5bc3ee748c6"
   },
   "source": [
    "df_2019.groupby(df_2019[\"mes_venda\"])[\"Qtde\"].sum().plot(marker = \"o\")\n",
    "plt.title(\"Quantidade de produtos vendidos x mês\")\n",
    "plt.xlabel(\"Mês\")\n",
    "plt.ylabel(\"Total Produtos Vendidos\");\n",
    "plt.legend()\n",
    "plt.savefig(\"QTDExMES.png\")"
   ],
   "execution_count": 65,
   "outputs": [
    {
     "data": {
      "text/plain": "<Figure size 432x288 with 1 Axes>",
      "image/png": "[encoded data removed]"
     },
     "metadata": {},
     "output_type": "display_data"
    }
   ]
  },
  {
   "cell_type": "code",
   "metadata": {
    "id": "mIcmLx2iktxl",
    "colab_type": "code",
    "colab": {}
   },
   "source": [
    ""
   ],
   "execution_count": 64,
   "outputs": []
  }
 ]
}